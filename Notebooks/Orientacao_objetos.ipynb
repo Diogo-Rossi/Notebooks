{
 "cells": [
  {
   "cell_type": "markdown",
   "metadata": {},
   "source": [
    "# Orientação a objetos\n",
    "\n",
    "* [1. Conceito básico de objetos com atributos](#1.-Conceito-básico-de-objetos-com-atributos)\n",
    "* [2. Conceito básico de classes com atributos](#2.-Conceito-básico-de-classes-com-atributos)\n",
    "* [3. Conceito básico de classes com métodos](#3.-Conceito-básico-de-classes-com-métodos)\n",
    "* [4. Métodos de objeto ou de instância comuns, invocados pela instância](#4.-Métodos-de-objeto-ou-de-instância-comuns,-invocados-pela-instância)\n",
    "* [5. Métodos de classe](#5.-Métodos-de-classe)\n",
    "* [6. Métodos estáticos](#6.-Métodos-estáticos)\n",
    "* [7. Resumo sobre tipos de métodos](#7.-Resumo-sobre-tipos-de-métodos)\n",
    "* [8. Conceito de propriedades, métodos tipo *setter* e *getter*](#8.-Conceito-de-propriedades,-métodos-tipo-setter-e-getter)\n",
    "* [9. Atributos e métodos privados](#9.-Atributos-e-métodos-privados)\n",
    "* [10. Métodos especiais](#10.-Métodos-especiais)\n"
   ]
  },
  {
   "cell_type": "markdown",
   "metadata": {},
   "source": [
    "___\n",
    "# 1. Conceito básico de objetos com atributos\n",
    "Uma **classe** é um template para definição de **objetos** que carregam atributos (variáveis).   \n",
    "São definidas no contexto `class`. Objetos são **instâncias da classe**."
   ]
  },
  {
   "cell_type": "code",
   "execution_count": 1,
   "metadata": {},
   "outputs": [],
   "source": [
    "class Pessoa:\n",
    "    pass        # este contexto está vazio, apenas para definir a classe"
   ]
  },
  {
   "cell_type": "markdown",
   "metadata": {},
   "source": [
    "Para criar uma instância de objeto, sua classe é chamada na forma de função, com parenteses `()` .    \n",
    "Os atributos podem ser definidos nos objetos, através de ponto \"`.`\"."
   ]
  },
  {
   "cell_type": "code",
   "execution_count": 2,
   "metadata": {},
   "outputs": [
    {
     "name": "stdout",
     "output_type": "stream",
     "text": [
      "Nome da pessoa 1: Marta\n"
     ]
    }
   ],
   "source": [
    "pessoa1 = Pessoa()\n",
    "pessoa1.nome     = \"Marta\"\n",
    "pessoa1.idade    = 33\n",
    "pessoa1.altura   = 1.70\n",
    "pessoa1.vacinado = True\n",
    "\n",
    "pessoa2 = Pessoa()\n",
    "pessoa2.nome     = \"Jonas\"\n",
    "pessoa2.idade    = 34\n",
    "pessoa2.altura   = 1.80\n",
    "pessoa1.vacinado = False\n",
    "\n",
    "print(\"Nome da pessoa 1:\" , pessoa1.nome)"
   ]
  },
  {
   "cell_type": "markdown",
   "metadata": {},
   "source": [
    "___\n",
    "Por baixo dos panos, a chamada da classe como função `()` executa 2 funções especiais, vistas mais adiante.   \n",
    "Essa chamada também pode receber argumentos (visto mais adiante)."
   ]
  },
  {
   "cell_type": "markdown",
   "metadata": {},
   "source": [
    "___\n",
    "# 2. Conceito básico de classes com atributos\n",
    "Os atributos podem ser definidos no **contexto da classe** .   \n",
    "São chamados assim **atributos, ou variáveis, de classe**."
   ]
  },
  {
   "cell_type": "code",
   "execution_count": 3,
   "metadata": {},
   "outputs": [],
   "source": [
    "class Pessoa:\n",
    "    especie = \"Ser humano\"\n",
    "    cromossomos = 48"
   ]
  },
  {
   "cell_type": "markdown",
   "metadata": {},
   "source": [
    "Neste caso, os atributos são transferidos aos objetos instanciados."
   ]
  },
  {
   "cell_type": "code",
   "execution_count": 4,
   "metadata": {},
   "outputs": [
    {
     "name": "stdout",
     "output_type": "stream",
     "text": [
      "Ser humano | Ser humano\n"
     ]
    }
   ],
   "source": [
    "pessoa1 = Pessoa()\n",
    "pessoa1.nome = \"Marta\"\n",
    "\n",
    "pessoa2 = Pessoa()\n",
    "pessoa2.nome = \"Jonas\"\n",
    "\n",
    "print(pessoa1.especie, \"|\", pessoa2.especie) # printa atributos dos objetos, definidos na classe"
   ]
  },
  {
   "cell_type": "markdown",
   "metadata": {},
   "source": [
    "___\n",
    "Ainda neste caso, os atributos pertencem à classe, e são também chamados **atributos, ou variáveis, estáticas** .   \n",
    "Ao alterá-los **na classe** (no contexto da classe, usando o nome  da classe), os atributos são alterados para todas as instâncias daquela classe."
   ]
  },
  {
   "cell_type": "code",
   "execution_count": 5,
   "metadata": {},
   "outputs": [
    {
     "name": "stdout",
     "output_type": "stream",
     "text": [
      "Homo sapiens | Homo sapiens\n"
     ]
    }
   ],
   "source": [
    "Pessoa.especie = \"Homo sapiens\" # altera no contexto da classe\n",
    "\n",
    "print(pessoa1.especie, \"|\", pessoa2.especie)"
   ]
  },
  {
   "cell_type": "markdown",
   "metadata": {},
   "source": [
    "___\n",
    "Os atributos de classe podem também ser alterados no **contexto do objeto** .   \n",
    "Neste caso, eles são alterados apenas naquele objeto, e não nas demais instâncias da classe."
   ]
  },
  {
   "cell_type": "code",
   "execution_count": 6,
   "metadata": {},
   "outputs": [
    {
     "name": "stdout",
     "output_type": "stream",
     "text": [
      "Homo sapiens sapiens | Homo sapiens\n"
     ]
    }
   ],
   "source": [
    "pessoa1.especie = \"Homo sapiens sapiens\"\n",
    "\n",
    "print(pessoa1.especie, \"|\", pessoa2.especie)"
   ]
  },
  {
   "cell_type": "markdown",
   "metadata": {},
   "source": [
    "*O **contexto da classe** é passado para os objetos, mas o **contexto dos objetos** fica somente armazenados neles*."
   ]
  },
  {
   "cell_type": "markdown",
   "metadata": {
    "hideCode": false,
    "hidePrompt": false
   },
   "source": [
    "___\n",
    "# 3. Conceito básico de classes com métodos\n",
    "\n",
    "**Métodos** são funções (`def`) definidos no contexto da classe."
   ]
  },
  {
   "cell_type": "code",
   "execution_count": 7,
   "metadata": {},
   "outputs": [],
   "source": [
    "class Operacao:\n",
    "    \n",
    "    def escrever_frase():\n",
    "        return 'Lorem ipsum dolor sit amet, consectetur adipiscing elit.'\n",
    "    \n",
    "    def somar(x,y):\n",
    "        return x + y\n",
    "    \n",
    "    def subtrair(x,y):\n",
    "        return x - y\n",
    "    \n",
    "    def multiplicar(x,y):\n",
    "        return x*y"
   ]
  },
  {
   "cell_type": "markdown",
   "metadata": {},
   "source": [
    "Métodos também são acessados (invocados, chamados) através de ponto \"`.`\".\n",
    "\n",
    "Os métodos podem ser chamados pelo **nome da classe** (assim como os atributos de classe)."
   ]
  },
  {
   "cell_type": "code",
   "execution_count": 8,
   "metadata": {},
   "outputs": [
    {
     "data": {
      "text/plain": [
       "4"
      ]
     },
     "execution_count": 8,
     "metadata": {},
     "output_type": "execute_result"
    }
   ],
   "source": [
    "Operacao.somar(1,3)"
   ]
  },
  {
   "cell_type": "code",
   "execution_count": 9,
   "metadata": {},
   "outputs": [
    {
     "data": {
      "text/plain": [
       "'Lorem ipsum dolor sit amet, consectetur adipiscing elit.'"
      ]
     },
     "execution_count": 9,
     "metadata": {},
     "output_type": "execute_result"
    }
   ],
   "source": [
    "Operacao.escrever_frase()"
   ]
  },
  {
   "cell_type": "markdown",
   "metadata": {},
   "source": [
    "___\n",
    "# 4. Métodos de objeto ou de instância comuns, invocados pela instância\n",
    "\n",
    "Os métodos normalmente são chamados com o nome da **própria instância** (objeto).\n",
    "\n",
    "Apesar do exemplo anterior funcionar no nome classe, métodos devem admitir sempre **ao menos um argumento *positional*** .\n",
    "\n",
    "Este argumento é implicitamente assumido como o **próprio objeto instanciado** quando for chamado pela instância.\n",
    "\n",
    "O método `escrever_algo` da classe anterior dará erro ao ser chamado por uma instância."
   ]
  },
  {
   "cell_type": "code",
   "execution_count": 10,
   "metadata": {},
   "outputs": [
    {
     "ename": "TypeError",
     "evalue": "escrever_frase() takes 0 positional arguments but 1 was given",
     "output_type": "error",
     "traceback": [
      "\u001b[1;31m---------------------------------------------------------------------------\u001b[0m",
      "\u001b[1;31mTypeError\u001b[0m                                 Traceback (most recent call last)",
      "\u001b[1;32m~\\AppData\\Local\\Temp/ipykernel_3288/364411948.py\u001b[0m in \u001b[0;36m<module>\u001b[1;34m\u001b[0m\n\u001b[0;32m      1\u001b[0m \u001b[0mobjeto\u001b[0m \u001b[1;33m=\u001b[0m \u001b[0mOperacao\u001b[0m\u001b[1;33m(\u001b[0m\u001b[1;33m)\u001b[0m \u001b[1;31m# cria uma instância\u001b[0m\u001b[1;33m\u001b[0m\u001b[1;33m\u001b[0m\u001b[0m\n\u001b[1;32m----> 2\u001b[1;33m \u001b[0mobjeto\u001b[0m\u001b[1;33m.\u001b[0m\u001b[0mescrever_frase\u001b[0m\u001b[1;33m(\u001b[0m\u001b[1;33m)\u001b[0m\u001b[1;33m\u001b[0m\u001b[1;33m\u001b[0m\u001b[0m\n\u001b[0m",
      "\u001b[1;31mTypeError\u001b[0m: escrever_frase() takes 0 positional arguments but 1 was given"
     ]
    }
   ],
   "source": [
    "objeto = Operacao() # cria uma instância\n",
    "objeto.escrever_frase()"
   ]
  },
  {
   "cell_type": "markdown",
   "metadata": {},
   "source": [
    "___\n",
    "Este erro ocorre pois o método não tem argumentos `()`, mas **sempre será passado um argumento quando for chamado pela instância**.\n",
    "\n",
    "Este argumento é atribuído como o **próprio objeto que está instanciado** .\n",
    "\n",
    "A convenção de nome para esse primeiro argumento em métodos é chamá-lo de `self` na implementação da classe (mas isso não é obrigatório).\n",
    "\n",
    "Os métodos podem ser usados para definir atributos nos objetos instanciados, usando `self` na implementação do método."
   ]
  },
  {
   "cell_type": "code",
   "execution_count": 11,
   "metadata": {
    "hideCode": false,
    "hidePrompt": false
   },
   "outputs": [],
   "source": [
    "class Pessoa:\n",
    "    \n",
    "    def define_pessoa(self,nome,peso,altura):\n",
    "        self.nome = nome\n",
    "        self.peso = peso\n",
    "        self.altura = altura\n",
    "    \n",
    "    def calcula_IMC(self):\n",
    "        return self.peso / (self.altura ** 2)"
   ]
  },
  {
   "cell_type": "markdown",
   "metadata": {
    "hideCode": false,
    "hidePrompt": false
   },
   "source": [
    "No caso de métodos chamados pelo nome da classe, deve-se passar todos os argumentos, inclusive o `self`, que deve ser um objeto da classe."
   ]
  },
  {
   "cell_type": "code",
   "execution_count": 12,
   "metadata": {
    "hideCode": false,
    "hidePrompt": false
   },
   "outputs": [
    {
     "data": {
      "text/plain": [
       "21.484374999999996"
      ]
     },
     "execution_count": 12,
     "metadata": {},
     "output_type": "execute_result"
    }
   ],
   "source": [
    "primeiraPessoa = Pessoa() # instancia\n",
    "\n",
    "Pessoa.define_pessoa(primeiraPessoa, \"Marta\", 55, 1.60) # informa o objeto 'self'\n",
    "\n",
    "Pessoa.calcula_IMC(primeiraPessoa) # informa o objeto 'self'"
   ]
  },
  {
   "cell_type": "markdown",
   "metadata": {
    "hideCode": false,
    "hidePrompt": false
   },
   "source": [
    "Mas no caso de métodos chamados pela **própria instância**, deve-se passar todos os argumentos, **exceto o primeiro** (`self`).   \n",
    "Este argumento é implicitamente assumido como o **próprio objeto instanciado**."
   ]
  },
  {
   "cell_type": "code",
   "execution_count": 13,
   "metadata": {
    "hideCode": false,
    "hidePrompt": false
   },
   "outputs": [
    {
     "data": {
      "text/plain": [
       "20.569329660238754"
      ]
     },
     "execution_count": 13,
     "metadata": {},
     "output_type": "execute_result"
    }
   ],
   "source": [
    "novaPessoa = Pessoa() # nova instancia\n",
    "\n",
    "novaPessoa.define_pessoa(\"Joana\",56,1.65) # não informa 'self'\n",
    "\n",
    "novaPessoa.calcula_IMC() # não informa 'self'"
   ]
  },
  {
   "cell_type": "markdown",
   "metadata": {
    "hideCode": false,
    "hidePrompt": false
   },
   "source": [
    "As duas chamadas acima executam, implicitamente, as duas operações abaixo.   \n",
    "```python\n",
    "Pessoa.define_pessoa(novaPessoa,\"Joana\",56,1.65)\n",
    "Pessoa.calcula_IMC(novaPessoa)\n",
    "```\n",
    "Alterando o objeto `novaPessoa`"
   ]
  },
  {
   "cell_type": "markdown",
   "metadata": {},
   "source": [
    "___\n",
    "# 5. Métodos de classe\n",
    "\n",
    "Métodos de classe são métodos que, ao serem invocados pela instância, não passarão a própria instância implicitamente como o primeiro argumento *positional* (`self`, como feito acima).\n",
    "\n",
    "Ao invés disso, ao serem invocados pela instância, esses métodos passarão implicitamente a **própria classe da instância** como o primeiro argumento *positional*.\n",
    "\n",
    "Para definir métodos de classe, deve-se usar o decorador `@classmethod` nos métodos que deverão ser 'métodos de classe'.\n",
    "\n",
    "A convenção de nome para esse primeiro argumento em métodos de classe é chamá-lo de `cls` na implementação da classe (mas isso não é obrigatório).\n",
    "\n",
    "Os métodos de classe podem ser usados para definir atributos de classe no contexto da classe quando chamados pelas instâncias, usando `cls` na implementação do método."
   ]
  },
  {
   "cell_type": "code",
   "execution_count": 14,
   "metadata": {},
   "outputs": [],
   "source": [
    "class Pessoa:\n",
    "    \n",
    "    def definir_pessoa(self,nome,idade):\n",
    "        self.nome = nome\n",
    "        self.idade = idade\n",
    "    \n",
    "    @classmethod\n",
    "    def definir_especie(cls,especie):\n",
    "        cls.especie = especie"
   ]
  },
  {
   "cell_type": "code",
   "execution_count": 15,
   "metadata": {},
   "outputs": [
    {
     "data": {
      "text/plain": [
       "'humano'"
      ]
     },
     "execution_count": 15,
     "metadata": {},
     "output_type": "execute_result"
    }
   ],
   "source": [
    "pessoa1 = Pessoa()\n",
    "pessoa2 = Pessoa()\n",
    "\n",
    "pessoa1.definir_pessoa(\"Marta\",33)\n",
    "pessoa2.definir_pessoa(\"Jonas\",35)\n",
    "\n",
    "pessoa1.definir_especie(\"humano\") # método de classe, alterando um atributo de classe\n",
    "\n",
    "pessoa2.especie # o atributo de classe é alterado em todas as instâncias, pois foi alterado no contexto da classe"
   ]
  },
  {
   "cell_type": "markdown",
   "metadata": {},
   "source": [
    "Diferentemente dos métodos comuns, para os métodos de classe **não devem ser passados todos os argumentos** quando invocados pelo nome da classe.   \n",
    "Isto é, não se deve passar o `cls` mesmo quando o método é invocado pela classe (Diferentemente do caso do `self` para métodos comuns invocados pela classe)"
   ]
  },
  {
   "cell_type": "code",
   "execution_count": 16,
   "metadata": {},
   "outputs": [
    {
     "data": {
      "text/plain": [
       "'homo sapiens'"
      ]
     },
     "execution_count": 16,
     "metadata": {},
     "output_type": "execute_result"
    }
   ],
   "source": [
    "Pessoa.definir_especie(\"homo sapiens\")\n",
    "Pessoa.especie"
   ]
  },
  {
   "cell_type": "markdown",
   "metadata": {},
   "source": [
    "___\n",
    "# 6. Métodos estáticos \n",
    "\n",
    "Métodos estáticos são métodos que, ao serem invocados pela instância ou pela classe, **não passarão nenhum argumento implicitamente**.\n",
    "\n",
    "Isto é, serão funções comuns, sem necessidade do `self` ou `cls`, só que serão agrupados no contexto de objetos ou classes.\n",
    "\n",
    "Para definir métodos estáticos, deve-se usar o decorador `@staticmethod`\n"
   ]
  },
  {
   "cell_type": "code",
   "execution_count": 17,
   "metadata": {},
   "outputs": [],
   "source": [
    "class Operacao:\n",
    "    \n",
    "    @staticmethod\n",
    "    def escrever_frase(): # sem 'self' ou 'cls'\n",
    "        return 'Lorem ipsum dolor sit amet, consectetur adipiscing elit.'"
   ]
  },
  {
   "cell_type": "code",
   "execution_count": 18,
   "metadata": {},
   "outputs": [
    {
     "data": {
      "text/plain": [
       "'Lorem ipsum dolor sit amet, consectetur adipiscing elit.'"
      ]
     },
     "execution_count": 18,
     "metadata": {},
     "output_type": "execute_result"
    }
   ],
   "source": [
    "obj = Operacao()\n",
    "\n",
    "obj.escrever_frase() # não dá erro como antes"
   ]
  },
  {
   "cell_type": "markdown",
   "metadata": {},
   "source": [
    "# 7. Resumo sobre tipos de métodos"
   ]
  },
  {
   "cell_type": "code",
   "execution_count": 19,
   "metadata": {},
   "outputs": [
    {
     "data": {
      "text/plain": [
       "3"
      ]
     },
     "execution_count": 19,
     "metadata": {},
     "output_type": "execute_result"
    }
   ],
   "source": [
    "class Cname:\n",
    "    \n",
    "    def metodo_comum(self, a, b):\n",
    "        return a + b\n",
    "    \n",
    "    @staticmethod\n",
    "    def metodo_estatico(a, b):\n",
    "        return a + b\n",
    "    \n",
    "    @classmethod\n",
    "    def metodo_de_classe(cls, a, b):\n",
    "        return cls.metodo_estatico(a, b)\n",
    "\n",
    "obj = Cname()  # instancia\n",
    "\n",
    "Cname.metodo_comum(obj, 1, 2) # primeira forma de chamar método com nome da classe, alterando instância.\n",
    "obj.metodo_comum(1, 2)        # forma mais usual de chamar métodos comuns, sem o 'self', se reduz à primeira.\n",
    "\n",
    "Cname.metodo_estatico(1, 2)    # método estático pode ser chamado somente com argumentos\n",
    "obj.metodo_estatico(1, 2)      # pode ser chamado com nome da instância ou da classe\n",
    "\n",
    "Cname.metodo_de_classe(1, 2)    # métodos de classe podem ser chamados iguais aos métodos estáticos\n",
    "obj.metodo_de_classe(1, 2)      # mas o primeiro argumento 'cls' será implicitamente passado, dando acesso à classe"
   ]
  },
  {
   "cell_type": "markdown",
   "metadata": {},
   "source": [
    "O nomes das variáveis `self` e `cls` não são obrigatórios, mas esses são os valores habituais.\n",
    "\n",
    "Apesar da existência dos métodos estáticos, frequentemente é melhor deixar os métodos chamados \"desvinculados\" (sem uma instância) como funções em nível de módulo em python."
   ]
  },
  {
   "cell_type": "markdown",
   "metadata": {},
   "source": [
    "___\n",
    "# 8. Conceito de propriedades, métodos tipo *setter* e *getter*\n",
    "**Propriedades** de um objeto podem ser vistas como atributos que dependem de lógica implementada.   \n",
    "\n",
    "Por exemplo: o valor do IMC do objeto `novaPessoa` do código abaixo poderia ser um atributo, mas ele depende de outros atributos (`altura` e `peso`)   \n",
    "\n",
    "Ao atualizar um atributo (por ex: `novaPessoa.peso = 20.0`) o IMC deve alterar.\n",
    "\n",
    "Dessa forma, o IMC não é um atributo comum, mas sim uma **propriedade**.   "
   ]
  },
  {
   "cell_type": "code",
   "execution_count": 20,
   "metadata": {},
   "outputs": [],
   "source": [
    "class Pessoa:\n",
    "    \n",
    "    def define_pessoa(self,nome,peso,altura):\n",
    "        self.nome = nome\n",
    "        self.peso = peso\n",
    "        self.altura = altura\n",
    "    \n",
    "    def calcula_IMC(self):\n",
    "        return self.peso / (self.altura ** 2)"
   ]
  },
  {
   "cell_type": "code",
   "execution_count": 21,
   "metadata": {},
   "outputs": [
    {
     "data": {
      "text/plain": [
       "20.569329660238754"
      ]
     },
     "execution_count": 21,
     "metadata": {},
     "output_type": "execute_result"
    }
   ],
   "source": [
    "novaPessoa = Pessoa()\n",
    "\n",
    "novaPessoa.define_pessoa(\"Joana\",56,1.65)\n",
    "\n",
    "novaPessoa.calcula_IMC()"
   ]
  },
  {
   "cell_type": "markdown",
   "metadata": {},
   "source": [
    "Propriedades devem ser **atribuídas** ou **extraídas** através de métodos, pois dependem de lógica implementada.\n",
    "\n",
    "Estes métodos podem ser classificados, respectivamente, como *setters* e *getters*.\n",
    "\n",
    "O método `calcula_IMC` dado acima pode ser visto como exemplo de um *getter*.\n",
    "\n",
    "Outro exemplo abaixo: a trajetória que vai do ponto inicial ao ponto final, tem um comprimento. O ponto inicial é fixo."
   ]
  },
  {
   "cell_type": "code",
   "execution_count": 22,
   "metadata": {},
   "outputs": [],
   "source": [
    "class Trajetoria:\n",
    "    \n",
    "    def define_trajetoria(self,pto_inicial,pto_final):\n",
    "        self.pto_inicial = pto_inicial\n",
    "        self.pto_final = pto_final\n",
    "    \n",
    "    def get_comprimento(self):\n",
    "        return self.pto_final - self.pto_inicial\n",
    "    \n",
    "    def set_comprimento(self,valor):\n",
    "        self.pto_final = self.pto_inicial + valor"
   ]
  },
  {
   "cell_type": "code",
   "execution_count": 23,
   "metadata": {},
   "outputs": [
    {
     "data": {
      "text/plain": [
       "2.8"
      ]
     },
     "execution_count": 23,
     "metadata": {},
     "output_type": "execute_result"
    }
   ],
   "source": [
    "caminho = Trajetoria()\n",
    "\n",
    "caminho.define_trajetoria(2.5,5.3)\n",
    "\n",
    "caminho.get_comprimento()"
   ]
  },
  {
   "cell_type": "code",
   "execution_count": 24,
   "metadata": {},
   "outputs": [
    {
     "name": "stdout",
     "output_type": "stream",
     "text": [
      "2.5 | 9.6\n"
     ]
    }
   ],
   "source": [
    "caminho.set_comprimento(7.1)\n",
    "\n",
    "print(caminho.pto_inicial, \"|\" , caminho.pto_final)"
   ]
  },
  {
   "cell_type": "markdown",
   "metadata": {},
   "source": [
    "___\n",
    "O python não possui, originalmente, uma forma nativa de definir *setters* e *getters* diferente do método acima.\n",
    "\n",
    "Em certa versão, foi introduzido o [decorador *property*](https://docs.python.org/3/library/functions.html#property), que faz este papel."
   ]
  },
  {
   "cell_type": "markdown",
   "metadata": {},
   "source": [
    "___\n",
    "# 9. Atributos e métodos privados\n",
    "Atributos e métodos **privados** são aqueles que podem ser acessados apenas no contexto da classe, não podendo ser acessados fora da classe.\n",
    "\n",
    "No python, atributos privados tem seu nome iniciado por dois *underscores*, isto é: `__nome`.\n",
    "\n",
    "O exemplo mais imediato de atributo privado é aquele que é manipulado por *setter* e *getter*, ou seja, só pode ser manipulado por estes métodos."
   ]
  },
  {
   "cell_type": "code",
   "execution_count": 25,
   "metadata": {},
   "outputs": [],
   "source": [
    "class Quadrado:\n",
    "    \n",
    "    def define_quadrado(self,lado):\n",
    "        self.__lado = lado\n",
    "        self.__area = lado ** 2\n",
    "    \n",
    "    def set_lado(self,valor):\n",
    "        self.__lado = valor\n",
    "        self.__area = valor ** 2\n",
    "    \n",
    "    def set_area(self,valor):\n",
    "        self.__area = valor\n",
    "        self.__lado = valor ** 0.5\n",
    "    \n",
    "    def get_lado(self):\n",
    "        return self.__lado\n",
    "    \n",
    "    def get_area(self):\n",
    "        return self.__area"
   ]
  },
  {
   "cell_type": "code",
   "execution_count": 26,
   "metadata": {},
   "outputs": [
    {
     "data": {
      "text/plain": [
       "16"
      ]
     },
     "execution_count": 26,
     "metadata": {},
     "output_type": "execute_result"
    }
   ],
   "source": [
    "figura = Quadrado()\n",
    "\n",
    "figura.define_quadrado(4)\n",
    "\n",
    "figura.get_area()"
   ]
  },
  {
   "cell_type": "markdown",
   "metadata": {},
   "source": [
    "Tentar acessar o atributo privado fora do contexto da classe, resulta em erro"
   ]
  },
  {
   "cell_type": "code",
   "execution_count": 27,
   "metadata": {},
   "outputs": [
    {
     "ename": "AttributeError",
     "evalue": "'Quadrado' object has no attribute '__area'",
     "output_type": "error",
     "traceback": [
      "\u001b[1;31m---------------------------------------------------------------------------\u001b[0m",
      "\u001b[1;31mAttributeError\u001b[0m                            Traceback (most recent call last)",
      "\u001b[1;32m~\\AppData\\Local\\Temp/ipykernel_3288/3034389266.py\u001b[0m in \u001b[0;36m<module>\u001b[1;34m\u001b[0m\n\u001b[1;32m----> 1\u001b[1;33m \u001b[0mfigura\u001b[0m\u001b[1;33m.\u001b[0m\u001b[0m__area\u001b[0m\u001b[1;33m\u001b[0m\u001b[1;33m\u001b[0m\u001b[0m\n\u001b[0m",
      "\u001b[1;31mAttributeError\u001b[0m: 'Quadrado' object has no attribute '__area'"
     ]
    }
   ],
   "source": [
    "figura.__area"
   ]
  },
  {
   "cell_type": "markdown",
   "metadata": {},
   "source": [
    "____\n",
    "**Porém, o atributo ainda é acessível fora do contexto da classe.**\n",
    "\n",
    "Fora do contexto da classe, o python muda o nome desses atributos automaticamente colocando o sufixo `_<classe>` .   \n",
    "Onde `<classe>` indica o nome da classe.\n"
   ]
  },
  {
   "cell_type": "code",
   "execution_count": 28,
   "metadata": {},
   "outputs": [
    {
     "data": {
      "text/plain": [
       "16"
      ]
     },
     "execution_count": 28,
     "metadata": {},
     "output_type": "execute_result"
    }
   ],
   "source": [
    "figura._Quadrado__area"
   ]
  },
  {
   "cell_type": "markdown",
   "metadata": {},
   "source": [
    "Ou seja: O atributo privado continua sendo acessível fora da classe, mas este acesso é dificultado.\n",
    "\n",
    "Não há atributos totalmente privados no python"
   ]
  },
  {
   "cell_type": "markdown",
   "metadata": {
    "hideCode": false,
    "hidePrompt": false
   },
   "source": [
    "____\n",
    "# 10. Métodos especiais\n",
    "Métodos e atributos especiais possuem dois *underscores* seguidos `__` no início e no final do nome do método: `__nome__` .   \n",
    "Eles são executados em situações especiais. Abaixo lista-se alguns métodos especiais e forma em que são invocados.   \n",
    "(Obs: assume-se que `obj` e `jbo` são objetos e `Cnam` é o nome de uma classe)\n",
    "\n",
    "| Nome do método | Quando é invocado  | invocação implícita realizada  | Invocação real realizada   | Descrição do que o método faz                                                       |\n",
    "|:--------------:|:------------------:|:-------------------------------|:---------------------------|:-----------------------------------------------------------------------------------:|\n",
    "| `__str__`      | `print(obj)`       | `print(obj.__str__())`         | `print(Cnam.__str__(obj))` | Retorna o que será impresso na tela <br> do terminal ao usar função `print()`       |\n",
    "| `__add__`      | `obj + jbo`        | `obj.__add__(jbo)`             | `Cnam.__add__(obj,jbo)`    | Retorna a soma entre os dois <br> objetos, resultado da operação `+`                | \n",
    "| `__sub__`      | `obj - jbo`        | `obj.__sub__(jbo)`             | `Cnam.__sub__(obj,jbo)`    | Retorna a subtração entre os dois <br> objetos, resultado da operação `-`           | \n",
    "| `__mul__`      | `obj * jbo`        | `obj.__mul__(jbo)`             | `Cnam.__mul__(obj,jbo)`    | Retorna a multiplicação entre os dois <br> objetos, resultado da operação `*`       | \n",
    "| `__div__`      | `obj / jbo`        | `obj.__div__(jbo)`             | `Cnam.__div__(obj,jbo)`    | Retorna a divisão entre os dois <br> objetos, resultado da operação `/`             | \n",
    "| `__eq__`       | `obj == jbo`       | `obj.__eq__(jbo)`              | `Cnam.__eq__(obj,jbo)`     | Retorna operação booleana de <br> igualdade, resultado da comparação `==`           | \n",
    "| `__lt__`       | `obj < jbo`        | `obj.__lt__(jbo)`              | `Cnam.__lt__(obj,jbo)`     | Retorna operação booleana de <br> 'menor que', resultado da comparação `<`          | \n",
    "| `__gt__`       | `obj > jbo`        | `obj.__gt__(jbo)`              | `Cnam.__gt__(obj,jbo)`     | Retorna operação booleana de <br> 'maior que', resultado da comparação `>`          |\n",
    "| `__ne__`       | `obj != jbo`       | `obj.__ne__(jbo)`              | `Cnam.__ne__(obj,jbo)`     | Retorna operação booleana de <br> desigualdade, resultado da comparação `!=`        | \n",
    "| `__le__`       | `obj <= jbo`       | `obj.__le__(jbo)`              | `Cnam.__le__(obj,jbo)`     | Retorna operação booleana de <br> 'menor ou igual', resultado da comparação `<=`    | \n",
    "| `__ge__`       | `obj >= jbo`       | `obj.__ge__(jbo)`              | `Cnam.__ge__(obj,jbo)`     | Retorna operação booleana de <br> 'maior ou igual', resultado da comparação `>=`    |\n"
   ]
  },
  {
   "cell_type": "markdown",
   "metadata": {},
   "source": [
    "___\n",
    "### 10.1. Métodos `__new__` e `__init__`\n",
    "Os métodos especiais `__new__` e `__init__` são invocados quando é criada a instância da classe (objeto), ao chamar a classe como função `()`.\n",
    "\n",
    "O método `__new__` é um **método de classe**, e será chamado pela própria classe.\n",
    "\n",
    "Já o método `__init__` é um método comum e tem, naturalmente, o `self` como primeiro argumento.\n",
    "\n",
    "A linha abaixo:"
   ]
  },
  {
   "cell_type": "code",
   "execution_count": 29,
   "metadata": {},
   "outputs": [],
   "source": [
    "humano = Pessoa()"
   ]
  },
  {
   "cell_type": "markdown",
   "metadata": {},
   "source": [
    "Equivale as duas instruções a seguir:"
   ]
  },
  {
   "cell_type": "code",
   "execution_count": 30,
   "metadata": {},
   "outputs": [],
   "source": [
    "humano = Pessoa.__new__(Pessoa)\n",
    "\n",
    "Pessoa.__init__(humano)"
   ]
  },
  {
   "cell_type": "markdown",
   "metadata": {},
   "source": [
    "Onde a segunda instrução também poderia ser: `humano.__init__()` (sem o `self`).\n",
    "___\n",
    "O método `__new__` retorna uma **nova instância da classe**. Por isso seu retorno é atribuído à referência (nome) do **novo objeto criado**.   \n",
    "Já o método `__init__` sempre retorna `None` na implementação da classe, ele apenas executa instruções.   \n",
    "\n",
    "Podem ser passados argumentos para o método `__init__` além do argumento `self` .  \n",
    "Esses argumentos são passados quando o nome da classe é chamado como função `()` para criar o objeto.   \n",
    "\n",
    "Assim, esse método `__init__` pode ser usado para inicializar os atributos do objeto no momento de sua criação.   \n",
    "Este método é chamado **método construtor**. "
   ]
  },
  {
   "cell_type": "code",
   "execution_count": 31,
   "metadata": {},
   "outputs": [],
   "source": [
    "# Exemplo usando 2 métodos especiais, incluindo o construtor __init__\n",
    "\n",
    "class Pessoa:\n",
    "    \n",
    "    def __init__(self,nome,peso,altura):\n",
    "        self.nome = nome\n",
    "        self.peso = peso\n",
    "        self.altura = altura\n",
    "    \n",
    "    def __str__(self):\n",
    "        imc = self.calcula_IMC() # <- aqui já se chama o método usando o próprio objeto\n",
    "        return \"Nome: \" + self.nome + \" | IMC: \" + str(imc)\n",
    "    \n",
    "    def calcula_IMC(self):\n",
    "        return self.peso / (self.altura ** 2)"
   ]
  },
  {
   "cell_type": "code",
   "execution_count": 32,
   "metadata": {},
   "outputs": [
    {
     "name": "stdout",
     "output_type": "stream",
     "text": [
      "Nome: Ana | IMC: 23.51716961498439\n"
     ]
    }
   ],
   "source": [
    "ser = Pessoa(\"Ana\",56.5,1.55)\n",
    "\n",
    "print(ser)"
   ]
  },
  {
   "cell_type": "markdown",
   "metadata": {},
   "source": [
    "___\n",
    "A primeira chamada acima, passa os argumentos `nome=\"Ana\"`, `peso=56.5` e `altura=1.55` para o método `__init__`.\n",
    "\n",
    "Essa chamada corresponde as duas instruções abaixo:\n",
    "```python\n",
    "ser = Pessoa.__new__(Pessoa)\n",
    "Pessoa.__init__(ser,\"Ana\",56.5,1.55)\n",
    "```\n",
    "\n",
    "Ou (sem passar o `self`)\n",
    "```python\n",
    "ser = Pessoa.__new__(Pessoa)\n",
    "ser.__init__(\"Ana\",56.5,1.55)\n",
    "```"
   ]
  },
  {
   "cell_type": "markdown",
   "metadata": {
    "hideCode": false,
    "hidePrompt": false
   },
   "source": [
    "___\n",
    "### 10.2. Métodos `__enter__` e `__exit__`   \n",
    "Os métodos especiais `__enter__` e `__exit__` são invocados num bloco `with`, chamado **gerenciador de contexto**.   \n",
    "\n",
    "```python\n",
    "    with Cname() as target:\n",
    "        ...\n",
    "```\n",
    "\n",
    "O bloco `with` estancia um objeto oculto \"*manager*\" (`manager = Cname()`)   \n",
    "e associa o retorno do método `__enter__` à variável `target`, que pode ou não ser usada.\n",
    "\n",
    "O método `__exit__` sempre é executado.   \n",
    "Caso haja **exceção** no bloco, os 3 parâmetros da exceção (tipo, valor e *traceback*) são passados para o método `__exit__`."
   ]
  },
  {
   "cell_type": "code",
   "execution_count": 33,
   "metadata": {
    "hideCode": false,
    "hidePrompt": false
   },
   "outputs": [],
   "source": [
    "# Exemplo de implementação do __enter__ e __exit__\n",
    "\n",
    "class Cname:\n",
    "    \n",
    "    def __enter__(self):\n",
    "        print(\"1. Entrou no bloco 'with', executou método __enter__\")\n",
    "        return \"algum 'target', retorno do __enter__\"\n",
    "    \n",
    "    def __exit__(self,typ,val,tb):\n",
    "        print(\"2. Executou método __exit__, passando a exceção:\")\n",
    "        print(\"   Tipo da exceção = \"     ,typ)\n",
    "        print(\"   Valor da exceção = \"    ,val)\n",
    "        print(\"   Traceback da exceção = \",tb )\n",
    "        print(\"3. Fim do __exit__, saiu do bloco 'with'\")"
   ]
  },
  {
   "cell_type": "code",
   "execution_count": 34,
   "metadata": {
    "hideCode": false,
    "hidePrompt": false
   },
   "outputs": [
    {
     "name": "stdout",
     "output_type": "stream",
     "text": [
      "1. Entrou no bloco 'with', executou método __enter__\n",
      "   Target é o valor:  algum 'target', retorno do __enter__\n",
      "2. Executou método __exit__, passando a exceção:\n",
      "   Tipo da exceção =  <class 'ValueError'>\n",
      "   Valor da exceção =  Óbvio, 2 certamente é maior que 1\n",
      "   Traceback da exceção =  <traceback object at 0x0000024141ACE3C0>\n",
      "3. Fim do __exit__, saiu do bloco 'with'\n"
     ]
    },
    {
     "ename": "ValueError",
     "evalue": "Óbvio, 2 certamente é maior que 1",
     "output_type": "error",
     "traceback": [
      "\u001b[1;31m---------------------------------------------------------------------------\u001b[0m",
      "\u001b[1;31mValueError\u001b[0m                                Traceback (most recent call last)",
      "\u001b[1;32m~\\AppData\\Local\\Temp/ipykernel_3288/3018827110.py\u001b[0m in \u001b[0;36m<module>\u001b[1;34m\u001b[0m\n\u001b[0;32m      2\u001b[0m     \u001b[0mprint\u001b[0m\u001b[1;33m(\u001b[0m\u001b[1;34m\"   Target é o valor: \"\u001b[0m\u001b[1;33m,\u001b[0m\u001b[0mtarget\u001b[0m\u001b[1;33m)\u001b[0m\u001b[1;33m\u001b[0m\u001b[1;33m\u001b[0m\u001b[0m\n\u001b[0;32m      3\u001b[0m     \u001b[1;32mif\u001b[0m \u001b[1;36m2\u001b[0m \u001b[1;33m>\u001b[0m \u001b[1;36m1\u001b[0m\u001b[1;33m:\u001b[0m\u001b[1;33m\u001b[0m\u001b[1;33m\u001b[0m\u001b[0m\n\u001b[1;32m----> 4\u001b[1;33m         \u001b[1;32mraise\u001b[0m \u001b[0mValueError\u001b[0m\u001b[1;33m(\u001b[0m\u001b[1;34m\"Óbvio, 2 certamente é maior que 1\"\u001b[0m\u001b[1;33m)\u001b[0m\u001b[1;33m\u001b[0m\u001b[1;33m\u001b[0m\u001b[0m\n\u001b[0m",
      "\u001b[1;31mValueError\u001b[0m: Óbvio, 2 certamente é maior que 1"
     ]
    }
   ],
   "source": [
    "with Cname() as target:\n",
    "    print(\"   Target é o valor: \",target)\n",
    "    if 2 > 1:\n",
    "        raise ValueError(\"Óbvio, 2 certamente é maior que 1\")"
   ]
  },
  {
   "cell_type": "markdown",
   "metadata": {
    "hideCode": false,
    "hidePrompt": false
   },
   "source": [
    "___\n",
    "Caso o método `__exit__` retornasse um valor `True` dentro a implementação da classe, então a exceção seria suprimida.   \n",
    "Quando a exceção é suprimida, os parametros `typ`,`val` e `tb` ficam todos iguais a `None`.\n",
    "\n",
    "O bloco `with` da última célula é equivalente ao bloco `try... except... finally` dado abaixo:"
   ]
  },
  {
   "cell_type": "code",
   "execution_count": 35,
   "metadata": {
    "hideCode": false,
    "hidePrompt": false
   },
   "outputs": [
    {
     "name": "stdout",
     "output_type": "stream",
     "text": [
      "1. Entrou no bloco 'with', executou método __enter__\n",
      "   Target é o valor:  algum 'target', retorno do __enter__\n",
      "2. Executou método __exit__, passando a exceção:\n",
      "   Tipo da exceção =  <class 'ValueError'>\n",
      "   Valor da exceção =  Óbvio, 2 certamente é maior que 1\n",
      "   Traceback da exceção =  <traceback object at 0x0000024141ACED80>\n",
      "3. Fim do __exit__, saiu do bloco 'with'\n"
     ]
    },
    {
     "ename": "ValueError",
     "evalue": "Óbvio, 2 certamente é maior que 1",
     "output_type": "error",
     "traceback": [
      "\u001b[1;31m---------------------------------------------------------------------------\u001b[0m",
      "\u001b[1;31mValueError\u001b[0m                                Traceback (most recent call last)",
      "\u001b[1;32m~\\AppData\\Local\\Temp/ipykernel_3288/917828777.py\u001b[0m in \u001b[0;36m<module>\u001b[1;34m\u001b[0m\n\u001b[0;32m      6\u001b[0m     \u001b[0mprint\u001b[0m\u001b[1;33m(\u001b[0m\u001b[1;34m\"   Target é o valor: \"\u001b[0m\u001b[1;33m,\u001b[0m\u001b[0mtarget\u001b[0m\u001b[1;33m)\u001b[0m\u001b[1;33m\u001b[0m\u001b[1;33m\u001b[0m\u001b[0m\n\u001b[0;32m      7\u001b[0m     \u001b[1;32mif\u001b[0m \u001b[1;36m2\u001b[0m \u001b[1;33m>\u001b[0m \u001b[1;36m1\u001b[0m\u001b[1;33m:\u001b[0m\u001b[1;33m\u001b[0m\u001b[1;33m\u001b[0m\u001b[0m\n\u001b[1;32m----> 8\u001b[1;33m         \u001b[1;32mraise\u001b[0m \u001b[0mValueError\u001b[0m\u001b[1;33m(\u001b[0m\u001b[1;34m\"Óbvio, 2 certamente é maior que 1\"\u001b[0m\u001b[1;33m)\u001b[0m\u001b[1;33m\u001b[0m\u001b[1;33m\u001b[0m\u001b[0m\n\u001b[0m\u001b[0;32m      9\u001b[0m \u001b[1;32mexcept\u001b[0m\u001b[1;33m:\u001b[0m\u001b[1;33m\u001b[0m\u001b[1;33m\u001b[0m\u001b[0m\n\u001b[0;32m     10\u001b[0m     \u001b[0mdeu_excecao\u001b[0m \u001b[1;33m=\u001b[0m \u001b[1;32mTrue\u001b[0m\u001b[1;33m\u001b[0m\u001b[1;33m\u001b[0m\u001b[0m\n",
      "\u001b[1;31mValueError\u001b[0m: Óbvio, 2 certamente é maior que 1"
     ]
    }
   ],
   "source": [
    "import sys\n",
    "manager = Cname()\n",
    "deu_excecao = False\n",
    "try:\n",
    "    target = manager.__enter__()\n",
    "    print(\"   Target é o valor: \",target)\n",
    "    if 2 > 1:\n",
    "        raise ValueError(\"Óbvio, 2 certamente é maior que 1\")\n",
    "except:\n",
    "    deu_excecao = True\n",
    "    typ, val, tb = sys.exc_info()\n",
    "    if not manager.__exit__(typ,val,tb):\n",
    "        raise\n",
    "finally:\n",
    "    if not deu_excecao:\n",
    "        manager.__exit__(None,None,None)"
   ]
  },
  {
   "cell_type": "markdown",
   "metadata": {},
   "source": [
    "____\n",
    "Abaixo um exemplo de quando o método `__exit__` retorna `True`, suprimindo a exceção do bloco `with` e   \n",
    "passando argumentos `None` para o método `__exit__`"
   ]
  },
  {
   "cell_type": "code",
   "execution_count": 36,
   "metadata": {},
   "outputs": [],
   "source": [
    "# Exemplo de implementação do __enter__ e __exit__ com retorno True no __exit__\n",
    "\n",
    "class Cname:\n",
    "    \n",
    "    def __enter__(self):\n",
    "        print(\"1. Entrou no bloco 'with', executou método __enter__\")\n",
    "        return \"algum 'target', retorno do __enter__\"\n",
    "    \n",
    "    def __exit__(self,typ,val,tb):\n",
    "        print(\"2. Executou método __exit__, passando a exceção:\")\n",
    "        print(\"   Tipo da exceção = \"     ,typ)\n",
    "        print(\"   Valor da exceção = \"    ,val)\n",
    "        print(\"   Traceback da exceção = \",tb )\n",
    "        print(\"3. Fim do __exit__, saiu do bloco 'with'\")\n",
    "        return True"
   ]
  },
  {
   "cell_type": "code",
   "execution_count": 37,
   "metadata": {},
   "outputs": [
    {
     "name": "stdout",
     "output_type": "stream",
     "text": [
      "1. Entrou no bloco 'with', executou método __enter__\n",
      "2. Executou método __exit__, passando a exceção:\n",
      "   Tipo da exceção =  None\n",
      "   Valor da exceção =  None\n",
      "   Traceback da exceção =  None\n",
      "3. Fim do __exit__, saiu do bloco 'with'\n"
     ]
    }
   ],
   "source": [
    "# Uso do 'with' sem target\n",
    "\n",
    "with Cname():\n",
    "    if 2 > 1:\n",
    "        ValueError(\"2 é maior que 1\")\n",
    "        "
   ]
  },
  {
   "cell_type": "markdown",
   "metadata": {},
   "source": [
    "___\n",
    "Um uso muito comum dos métodos `__enter__` e `__exit__` está implementado nativamente na [abertura de arquivos](https://docs.python.org/3/library/functions.html#open)."
   ]
  }
 ],
 "metadata": {
  "hide_code_all_hidden": false,
  "interpreter": {
   "hash": "1359610c268fcd310aeb979c518fab0e221e6b40f568a34f6bf221418055c988"
  },
  "kernelspec": {
   "display_name": "Python 3 (ipykernel)",
   "language": "python",
   "name": "python3"
  },
  "language_info": {
   "codemirror_mode": {
    "name": "ipython",
    "version": 3
   },
   "file_extension": ".py",
   "mimetype": "text/x-python",
   "name": "python",
   "nbconvert_exporter": "python",
   "pygments_lexer": "ipython3",
   "version": "3.9.7"
  }
 },
 "nbformat": 4,
 "nbformat_minor": 2
}
