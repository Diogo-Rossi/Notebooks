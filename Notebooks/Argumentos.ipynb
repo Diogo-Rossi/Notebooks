{
 "cells": [
  {
   "cell_type": "markdown",
   "metadata": {},
   "source": [
    "# Argumentos de funções\n",
    "\n",
    "Encontrei duas formas de dividir os tipos de argumentos de funções: Quando a função é **declarada** e quando a função é **invocada**.\n",
    "___\n",
    "## 1. Quando a função é invocada: ```a = f(x)```\n",
    "\n",
    "  Os argumentos podem ser dividos em quatro tipos:\n",
    "\n",
    "  '***positional***', '***keyword***', '***positional-only***' e '***keyword-only***'\n",
    "\n",
    "  A difereça entre eles ocorre na forma como são passados quando a função é invocada:\n",
    "  \n",
    "  * (1.1) *positional*: os argumentos são atribuídos por sua posição quando a função é invocada → Ex: ```f(2,7)```  \n",
    "  * (1.2) *keyword*: os argumentos são atribuídos por seu nome quando a função é invocada → Ex: ```f(nome1=2, nome2=7)```  \n",
    "  * (1.3) *positional-only*: os argumentos **devem ser atribuídos somente da forma *positional*, nunca pelo nome**, como em (1.1)\n",
    "  * (1.4) *keyword-only*: os argumentos **devem ser atribuídos somente por seu nome**, como em (1.2)\n",
    "___\n",
    "## 2. Quando a função é declarada: ```def f(x):```\n",
    " \n",
    "  Os argumentos podem ser agrupados em quatro tipos:\n",
    "\n",
    "  Nº fixo de argumentos: ***non-default*** e ***default***  \n",
    "  Nº variável de argumentos: ***positional*** e ***keyword***\n",
    "\n",
    "  A difereça entre eles ocorre na forma como a função é declarada:\n",
    "\n",
    "  * (2.1) Número fixo:\n",
    "\n",
    "    - (2.1.1) - Nº fixo de argumentos *non-default*:  \n",
    "    .  Argumentos são escritos explicitamente, **sem valor padrão** pré-definido  → Ex: ```def f(x,y,z):```  \n",
    "    .  Não se usa o símbolo ```=```. São argumentos **obrigatórios** quando a função é invocada.  \n",
    "  \n",
    "    - (2.1.2) - Nº fixo de argumentos *default*:  \n",
    "    .  Argumentos são escritos explicitamente, **e tem valor padrão** pré-definido → Ex: ```def f(x=2, y=7, z=89):```   \n",
    "    .  Usa-se o símbolo ```=```. São argumentos **opcionais** quando a função é invocada.   \n",
    "\n",
    "  * (2.2) Número variável:\n",
    "\n",
    "    - (2.2.1) - Nº variável de argumentos *positional*:  \n",
    "    .  Argumentos são escritos em uma **tupla** que segue o símbolo ```*```. → Ex: ```def f(*x):```  \n",
    "    .  São passados de forma *positional* quando a função é invocada → Ex:```f(2,7,...)```\n",
    "\n",
    "    - (2.2.2) - Nº variável de argumentos *keyword*:  \n",
    "    .  Argumentos são escritos em um **dicionário** que segue o símbolo ```**```. → ```def f(**x):```    \n",
    "    .  São passados na forma *keyword* quando a função é invocada → Ex: ```f(nome1=2, nome2=7, ...)```"
   ]
  },
  {
   "cell_type": "markdown",
   "metadata": {},
   "source": [
    "___\n",
    "# 1 - Invocação da Função: ```f(x)```\n",
    "___\n",
    "## (1.1) Argumentos *positional*\n",
    "\n",
    "São os argumentos mais simples. São atribuídos por sua posição quando a função é invocada.  \n",
    "A ordem (posição) de atribuição é importante e faz diferença."
   ]
  },
  {
   "cell_type": "code",
   "execution_count": 1,
   "metadata": {},
   "outputs": [],
   "source": [
    "def f(x,y):\n",
    "    print(\"x = \", x)\n",
    "    print(\"y = \", y)"
   ]
  },
  {
   "cell_type": "code",
   "execution_count": 2,
   "metadata": {},
   "outputs": [
    {
     "name": "stdout",
     "output_type": "stream",
     "text": [
      "x =  9\n",
      "y =  5\n"
     ]
    }
   ],
   "source": [
    "f(9,5)"
   ]
  },
  {
   "cell_type": "code",
   "execution_count": 3,
   "metadata": {},
   "outputs": [
    {
     "name": "stdout",
     "output_type": "stream",
     "text": [
      "x =  5\n",
      "y =  9\n"
     ]
    }
   ],
   "source": [
    "f(5,9)"
   ]
  },
  {
   "cell_type": "markdown",
   "metadata": {},
   "source": [
    "___\n",
    "## (1.2) Argumentos *keyword*\n",
    "Os argumentos são atribuídos por seu nome quando a função é invocada.  \n",
    "A ordem (posição) de atribuição **pode ser alterada**."
   ]
  },
  {
   "cell_type": "code",
   "execution_count": 4,
   "metadata": {},
   "outputs": [
    {
     "name": "stdout",
     "output_type": "stream",
     "text": [
      "x =  0\n",
      "y =  8\n"
     ]
    }
   ],
   "source": [
    "f(0,8) # usando argumento positional"
   ]
  },
  {
   "cell_type": "code",
   "execution_count": 5,
   "metadata": {},
   "outputs": [
    {
     "name": "stdout",
     "output_type": "stream",
     "text": [
      "x =  0\n",
      "y =  8\n"
     ]
    }
   ],
   "source": [
    "f(x=0,y=8) # usando argumento keyword, mesmo resultado anterior"
   ]
  },
  {
   "cell_type": "code",
   "execution_count": 6,
   "metadata": {},
   "outputs": [
    {
     "name": "stdout",
     "output_type": "stream",
     "text": [
      "x =  8\n",
      "y =  0\n"
     ]
    }
   ],
   "source": [
    "f(y=0,x=8) # usando argumento keyword, ordem alterada"
   ]
  },
  {
   "cell_type": "markdown",
   "metadata": {},
   "source": [
    "___\n",
    "É possível \"misturar\" *positional* e *keyword* quando a função é invocada.  \n",
    "O *keyword* deve vir **depois** do *positional*, senão haverá erro.  \n",
    "Deve-se tomar cuidado para não haver redundância de atribuições"
   ]
  },
  {
   "cell_type": "code",
   "execution_count": 7,
   "metadata": {},
   "outputs": [
    {
     "name": "stdout",
     "output_type": "stream",
     "text": [
      "x =  7\n",
      "y =  9\n"
     ]
    }
   ],
   "source": [
    "f(7,y=9) # mistura OK: x é positional, y é keyword"
   ]
  },
  {
   "cell_type": "code",
   "execution_count": 8,
   "metadata": {},
   "outputs": [
    {
     "ename": "SyntaxError",
     "evalue": "positional argument follows keyword argument (<ipython-input-8-d1c2b2d1f12f>, line 1)",
     "output_type": "error",
     "traceback": [
      "\u001b[1;36m  File \u001b[1;32m\"<ipython-input-8-d1c2b2d1f12f>\"\u001b[1;36m, line \u001b[1;32m1\u001b[0m\n\u001b[1;33m    f(x=7,9) # erro, keyword deve vir sempre depois do positional\u001b[0m\n\u001b[1;37m          ^\u001b[0m\n\u001b[1;31mSyntaxError\u001b[0m\u001b[1;31m:\u001b[0m positional argument follows keyword argument\n"
     ]
    }
   ],
   "source": [
    "f(x=7,9) # erro, keyword deve vir sempre depois do positional"
   ]
  },
  {
   "cell_type": "code",
   "execution_count": 9,
   "metadata": {},
   "outputs": [
    {
     "ename": "TypeError",
     "evalue": "f() got multiple values for argument 'x'",
     "output_type": "error",
     "traceback": [
      "\u001b[1;31m---------------------------------------------------------------------------\u001b[0m",
      "\u001b[1;31mTypeError\u001b[0m                                 Traceback (most recent call last)",
      "\u001b[1;32m<ipython-input-9-55105dbcb307>\u001b[0m in \u001b[0;36m<module>\u001b[1;34m\u001b[0m\n\u001b[1;32m----> 1\u001b[1;33m \u001b[0mf\u001b[0m\u001b[1;33m(\u001b[0m\u001b[1;36m7\u001b[0m\u001b[1;33m,\u001b[0m\u001b[0mx\u001b[0m\u001b[1;33m=\u001b[0m\u001b[1;36m5\u001b[0m\u001b[1;33m)\u001b[0m \u001b[1;31m# já havia valor para x, redundância\u001b[0m\u001b[1;33m\u001b[0m\u001b[1;33m\u001b[0m\u001b[0m\n\u001b[0m",
      "\u001b[1;31mTypeError\u001b[0m: f() got multiple values for argument 'x'"
     ]
    }
   ],
   "source": [
    "f(7,x=5) # já havia valor para x, redundância"
   ]
  },
  {
   "cell_type": "markdown",
   "metadata": {},
   "source": [
    "___\n",
    "## (1.3) Argumentos *positional-only*\n",
    "São os argumentos que **devem ser atribuídos somente da forma *positional*, nunca pelo nome**  \n",
    "Essa restrição é feita na **declaração da função**, ao se declarar argumentos antes de uma barra órfã (`/`):  "
   ]
  },
  {
   "cell_type": "code",
   "execution_count": 10,
   "metadata": {},
   "outputs": [],
   "source": [
    "def f(x,y,z,/):\n",
    "    print(\"x = \", x)\n",
    "    print(\"y = \", y)\n",
    "    print(\"z = \", z)"
   ]
  },
  {
   "cell_type": "code",
   "execution_count": 11,
   "metadata": {},
   "outputs": [
    {
     "name": "stdout",
     "output_type": "stream",
     "text": [
      "x =  55\n",
      "y =  66\n",
      "z =  77\n"
     ]
    }
   ],
   "source": [
    "f(55,66,77) # OK"
   ]
  },
  {
   "cell_type": "code",
   "execution_count": 12,
   "metadata": {},
   "outputs": [
    {
     "ename": "TypeError",
     "evalue": "f() got some positional-only arguments passed as keyword arguments: 'z'",
     "output_type": "error",
     "traceback": [
      "\u001b[1;31m---------------------------------------------------------------------------\u001b[0m",
      "\u001b[1;31mTypeError\u001b[0m                                 Traceback (most recent call last)",
      "\u001b[1;32m<ipython-input-12-d0e5b79b5b4a>\u001b[0m in \u001b[0;36m<module>\u001b[1;34m\u001b[0m\n\u001b[1;32m----> 1\u001b[1;33m \u001b[0mf\u001b[0m\u001b[1;33m(\u001b[0m\u001b[1;36m55\u001b[0m\u001b[1;33m,\u001b[0m\u001b[1;36m66\u001b[0m\u001b[1;33m,\u001b[0m\u001b[0mz\u001b[0m\u001b[1;33m=\u001b[0m\u001b[1;36m77\u001b[0m\u001b[1;33m)\u001b[0m \u001b[1;31m# não OK, repare na mensagem de erro\u001b[0m\u001b[1;33m\u001b[0m\u001b[1;33m\u001b[0m\u001b[0m\n\u001b[0m",
      "\u001b[1;31mTypeError\u001b[0m: f() got some positional-only arguments passed as keyword arguments: 'z'"
     ]
    }
   ],
   "source": [
    "f(55,66,z=77) # não OK, z é positional-only, mas foi atribuído como keyword repare na mensagem de erro"
   ]
  },
  {
   "cell_type": "markdown",
   "metadata": {},
   "source": [
    "**Argumentos *positional-only* são sempre de número fixo, e podem ser declarados como *default* ou *non-default* → ver item (2.1)**"
   ]
  },
  {
   "cell_type": "markdown",
   "metadata": {},
   "source": [
    "___\n",
    "## (1.4) Argumentos *keyword-only*\n",
    "São os argumentos que **devem ser atribuídos somente por seu nome**  \n",
    "Essa restrição é feita na **declaração da função**, ao se declarar argumentos depois de:  \n",
    "  * um argumento de nº variável, *positional*, com símbolo asterisco ```*``` (veja 2.2.1)\n",
    "  * um asterisco ```*``` órfão (sem argumentos)"
   ]
  },
  {
   "cell_type": "markdown",
   "metadata": {},
   "source": [
    "___\n",
    "* Depois de argumento de nº variável, positional, com símbolo `*` (ver 2.2.1 para detalhes)"
   ]
  },
  {
   "cell_type": "code",
   "execution_count": 13,
   "metadata": {},
   "outputs": [],
   "source": [
    "def f(*nome,x,y):\n",
    "    print(\"x = \", x)\n",
    "    print(\"y = \", y)"
   ]
  },
  {
   "cell_type": "code",
   "execution_count": 14,
   "metadata": {},
   "outputs": [
    {
     "name": "stdout",
     "output_type": "stream",
     "text": [
      "x =  7\n",
      "y =  8\n"
     ]
    }
   ],
   "source": [
    "f(x=7,y=8) # OK"
   ]
  },
  {
   "cell_type": "code",
   "execution_count": 15,
   "metadata": {},
   "outputs": [
    {
     "ename": "TypeError",
     "evalue": "f() missing 2 required keyword-only arguments: 'x' and 'y'",
     "output_type": "error",
     "traceback": [
      "\u001b[1;31m---------------------------------------------------------------------------\u001b[0m",
      "\u001b[1;31mTypeError\u001b[0m                                 Traceback (most recent call last)",
      "\u001b[1;32m<ipython-input-15-9eb51c68dee0>\u001b[0m in \u001b[0;36m<module>\u001b[1;34m\u001b[0m\n\u001b[1;32m----> 1\u001b[1;33m \u001b[0mf\u001b[0m\u001b[1;33m(\u001b[0m\u001b[1;36m7\u001b[0m\u001b[1;33m,\u001b[0m\u001b[1;36m8\u001b[0m\u001b[1;33m)\u001b[0m \u001b[1;31m# não OK, x e y devem ser atribuídos como keyword-only, repare na mensagem de erro\u001b[0m\u001b[1;33m\u001b[0m\u001b[1;33m\u001b[0m\u001b[0m\n\u001b[0m",
      "\u001b[1;31mTypeError\u001b[0m: f() missing 2 required keyword-only arguments: 'x' and 'y'"
     ]
    }
   ],
   "source": [
    "f(7,8) # não OK, x e y devem ser atribuídos como keyword-only, repare na mensagem de erro"
   ]
  },
  {
   "cell_type": "markdown",
   "metadata": {},
   "source": [
    "___\n",
    "* Depois de um asterisco `*` órfão (sem argumentos)"
   ]
  },
  {
   "cell_type": "code",
   "execution_count": 16,
   "metadata": {},
   "outputs": [],
   "source": [
    "def f(*,x,y):\n",
    "    print(\"x = \", x)\n",
    "    print(\"y = \", y)"
   ]
  },
  {
   "cell_type": "code",
   "execution_count": 17,
   "metadata": {},
   "outputs": [
    {
     "name": "stdout",
     "output_type": "stream",
     "text": [
      "x =  5\n",
      "y =  8\n"
     ]
    }
   ],
   "source": [
    "f(x=5,y=8) # OK"
   ]
  },
  {
   "cell_type": "code",
   "execution_count": 18,
   "metadata": {},
   "outputs": [
    {
     "ename": "TypeError",
     "evalue": "f() takes 0 positional arguments but 2 were given",
     "output_type": "error",
     "traceback": [
      "\u001b[1;31m---------------------------------------------------------------------------\u001b[0m",
      "\u001b[1;31mTypeError\u001b[0m                                 Traceback (most recent call last)",
      "\u001b[1;32m<ipython-input-18-1feb9fb600b7>\u001b[0m in \u001b[0;36m<module>\u001b[1;34m\u001b[0m\n\u001b[1;32m----> 1\u001b[1;33m \u001b[0mf\u001b[0m\u001b[1;33m(\u001b[0m\u001b[1;36m5\u001b[0m\u001b[1;33m,\u001b[0m\u001b[1;36m8\u001b[0m\u001b[1;33m)\u001b[0m \u001b[1;31m# não OK, x e y devem ser atribuídos como keyword-only, repare na mensagem de erro\u001b[0m\u001b[1;33m\u001b[0m\u001b[1;33m\u001b[0m\u001b[0m\n\u001b[0m",
      "\u001b[1;31mTypeError\u001b[0m: f() takes 0 positional arguments but 2 were given"
     ]
    }
   ],
   "source": [
    "f(5,8) # não OK, x e y devem ser atribuídos como keyword-only, repare na mensagem de erro"
   ]
  },
  {
   "cell_type": "code",
   "execution_count": 19,
   "metadata": {},
   "outputs": [
    {
     "ename": "TypeError",
     "evalue": "f() missing 2 required keyword-only arguments: 'x' and 'y'",
     "output_type": "error",
     "traceback": [
      "\u001b[1;31m---------------------------------------------------------------------------\u001b[0m",
      "\u001b[1;31mTypeError\u001b[0m                                 Traceback (most recent call last)",
      "\u001b[1;32m<ipython-input-19-7c43357a28e1>\u001b[0m in \u001b[0;36m<module>\u001b[1;34m\u001b[0m\n\u001b[1;32m----> 1\u001b[1;33m \u001b[0mf\u001b[0m\u001b[1;33m(\u001b[0m\u001b[1;33m)\u001b[0m \u001b[1;31m# não OK, repare na mensagem de erro\u001b[0m\u001b[1;33m\u001b[0m\u001b[1;33m\u001b[0m\u001b[0m\n\u001b[0m",
      "\u001b[1;31mTypeError\u001b[0m: f() missing 2 required keyword-only arguments: 'x' and 'y'"
     ]
    }
   ],
   "source": [
    "f() # não OK, repare na mensagem de erro"
   ]
  },
  {
   "cell_type": "code",
   "execution_count": 20,
   "metadata": {},
   "outputs": [
    {
     "ename": "TypeError",
     "evalue": "f() takes 0 positional arguments but 1 positional argument (and 1 keyword-only argument) were given",
     "output_type": "error",
     "traceback": [
      "\u001b[1;31m---------------------------------------------------------------------------\u001b[0m",
      "\u001b[1;31mTypeError\u001b[0m                                 Traceback (most recent call last)",
      "\u001b[1;32m<ipython-input-20-42c034457277>\u001b[0m in \u001b[0;36m<module>\u001b[1;34m\u001b[0m\n\u001b[1;32m----> 1\u001b[1;33m \u001b[0mf\u001b[0m\u001b[1;33m(\u001b[0m\u001b[1;36m5\u001b[0m\u001b[1;33m,\u001b[0m\u001b[0my\u001b[0m\u001b[1;33m=\u001b[0m\u001b[1;36m7\u001b[0m\u001b[1;33m)\u001b[0m \u001b[1;31m# não OK, repare na mensagem de erro\u001b[0m\u001b[1;33m\u001b[0m\u001b[1;33m\u001b[0m\u001b[0m\n\u001b[0m",
      "\u001b[1;31mTypeError\u001b[0m: f() takes 0 positional arguments but 1 positional argument (and 1 keyword-only argument) were given"
     ]
    }
   ],
   "source": [
    "f(5,y=7) # não OK, repare na mensagem de erro"
   ]
  },
  {
   "cell_type": "markdown",
   "metadata": {},
   "source": [
    "**Argumentos *keyword-only* são sempre de número fixo, e podem ser declarados como *default* ou *non-default* → ver próximo item (2.1)**"
   ]
  },
  {
   "cell_type": "markdown",
   "metadata": {},
   "source": [
    "___\n",
    "# 2 - Declaração da função: ```def f(x):```\n",
    "____\n",
    "## (2.1) Função com número fixo de argumentos:\n",
    "\n",
    "Argumentos são escritos explicitamente na declaração da função. ```def f(x,y,z,...):```  \n",
    "Podem ser *default* (opcionais) ou *non-default* (obrigatórios).  \n",
    "Ambos podem ser atribuídos na forma *positional* ou *keyword*\n",
    "____\n",
    "### (2.1.1) Argumentos \"*non-default*\" (obrigatórios):\n",
    "Não é passado um valor pré-definido para os argumentos (sem símbolo ```=```).  \n",
    "Devem ser obrigatóriamente atribuídos quando a função é invocada"
   ]
  },
  {
   "cell_type": "code",
   "execution_count": 21,
   "metadata": {},
   "outputs": [],
   "source": [
    "def f(x,y): # exemplo já foi usado antes\n",
    "    print(x)\n",
    "    print(y)"
   ]
  },
  {
   "cell_type": "code",
   "execution_count": 22,
   "metadata": {},
   "outputs": [
    {
     "ename": "TypeError",
     "evalue": "f() missing 1 required positional argument: 'y'",
     "output_type": "error",
     "traceback": [
      "\u001b[1;31m---------------------------------------------------------------------------\u001b[0m",
      "\u001b[1;31mTypeError\u001b[0m                                 Traceback (most recent call last)",
      "\u001b[1;32m<ipython-input-22-9dee29b275fe>\u001b[0m in \u001b[0;36m<module>\u001b[1;34m\u001b[0m\n\u001b[1;32m----> 1\u001b[1;33m \u001b[0mf\u001b[0m\u001b[1;33m(\u001b[0m\u001b[1;36m1\u001b[0m\u001b[1;33m)\u001b[0m \u001b[1;31m# y não foi definido, ver mensagem de erro\u001b[0m\u001b[1;33m\u001b[0m\u001b[1;33m\u001b[0m\u001b[0m\n\u001b[0m",
      "\u001b[1;31mTypeError\u001b[0m: f() missing 1 required positional argument: 'y'"
     ]
    }
   ],
   "source": [
    "f(1) # y não foi definido, ver mensagem de erro"
   ]
  },
  {
   "cell_type": "code",
   "execution_count": 23,
   "metadata": {},
   "outputs": [
    {
     "ename": "TypeError",
     "evalue": "f() missing 1 required positional argument: 'x'",
     "output_type": "error",
     "traceback": [
      "\u001b[1;31m---------------------------------------------------------------------------\u001b[0m",
      "\u001b[1;31mTypeError\u001b[0m                                 Traceback (most recent call last)",
      "\u001b[1;32m<ipython-input-23-617ca63a9490>\u001b[0m in \u001b[0;36m<module>\u001b[1;34m\u001b[0m\n\u001b[1;32m----> 1\u001b[1;33m \u001b[0mf\u001b[0m\u001b[1;33m(\u001b[0m\u001b[0my\u001b[0m\u001b[1;33m=\u001b[0m\u001b[1;36m3\u001b[0m\u001b[1;33m)\u001b[0m \u001b[1;31m# agora x é que não foi definido, ver mensagem de erro. (y foi definido por keyword)\u001b[0m\u001b[1;33m\u001b[0m\u001b[1;33m\u001b[0m\u001b[0m\n\u001b[0m",
      "\u001b[1;31mTypeError\u001b[0m: f() missing 1 required positional argument: 'x'"
     ]
    }
   ],
   "source": [
    "f(y=3) # agora x é que não foi definido, ver mensagem de erro. (y foi definido por keyword)"
   ]
  },
  {
   "cell_type": "markdown",
   "metadata": {},
   "source": [
    "___\n",
    "### (2.1.2) Argumentos \"*default*\" (opcionais):\n",
    "São passados valores pré-definidos para os argumentos (uso do símbolo ```=```).  \n",
    "Os argumentos passam a ser opcionais ao invocar a função.  "
   ]
  },
  {
   "cell_type": "code",
   "execution_count": 24,
   "metadata": {},
   "outputs": [],
   "source": [
    "def f(x , y , z=24 , m=\"hello\" , n=True): # z,m,n são opcionais\n",
    "    print(\"x = \",x)\n",
    "    print(\"y = \",y)\n",
    "    print(\"z = \",z)\n",
    "    print(\"m = \",m)\n",
    "    print(\"n = \",n)"
   ]
  },
  {
   "cell_type": "code",
   "execution_count": 25,
   "metadata": {},
   "outputs": [
    {
     "name": "stdout",
     "output_type": "stream",
     "text": [
      "x =  1\n",
      "y =  2\n",
      "z =  24\n",
      "m =  hello\n",
      "n =  True\n"
     ]
    }
   ],
   "source": [
    "# Aqui usa-se os valores default para z,m,n\n",
    "f(1,2)"
   ]
  },
  {
   "cell_type": "code",
   "execution_count": 26,
   "metadata": {},
   "outputs": [
    {
     "name": "stdout",
     "output_type": "stream",
     "text": [
      "x =  0\n",
      "y =  -8\n",
      "z =  24\n",
      "m =  test\n",
      "n =  False\n"
     ]
    }
   ],
   "source": [
    "# Aqui atribuiu todos os valores, definido-os na forma positional\n",
    "f( 0 , -8 , 24 , \"test\" , False)"
   ]
  },
  {
   "cell_type": "markdown",
   "metadata": {},
   "source": [
    "___\n",
    "O uso da atribuição por *keyword* ao invocar a função permite **atribuir algum argumento opcional sem atribuir os demais**  "
   ]
  },
  {
   "cell_type": "code",
   "execution_count": 27,
   "metadata": {},
   "outputs": [
    {
     "name": "stdout",
     "output_type": "stream",
     "text": [
      "x =  78\n",
      "y =  32\n",
      "z =  24\n",
      "m =  word\n",
      "n =  True\n"
     ]
    }
   ],
   "source": [
    "# Aqui muda apenas o valor de m dentre os argumentos opcionais, como keyword. \n",
    "# Todos argumentos atribuídos por keyword, inclusive os obrigatórios x e y\n",
    "f( y=32 , x=78 , m=\"word\" )"
   ]
  },
  {
   "cell_type": "code",
   "execution_count": 28,
   "metadata": {},
   "outputs": [
    {
     "name": "stdout",
     "output_type": "stream",
     "text": [
      "x =  78\n",
      "y =  32\n",
      "z =  24\n",
      "m =  hello\n",
      "n =  False\n"
     ]
    }
   ],
   "source": [
    "# Aqui muda apenas o valor de n dentre os parâmetros opcionais, como keyword.\n",
    "# Os obrigatórios x e y foram atribuídos na forma positional\n",
    "f( 78 , 32 , n=False )"
   ]
  },
  {
   "cell_type": "markdown",
   "metadata": {},
   "source": [
    "**Não se pode declarar argumentos *non-default* depois de argumentos *default* na declaração da função**"
   ]
  },
  {
   "cell_type": "code",
   "execution_count": 29,
   "metadata": {},
   "outputs": [
    {
     "ename": "SyntaxError",
     "evalue": "non-default argument follows default argument (<ipython-input-29-dd8a371ffd32>, line 2)",
     "output_type": "error",
     "traceback": [
      "\u001b[1;36m  File \u001b[1;32m\"<ipython-input-29-dd8a371ffd32>\"\u001b[1;36m, line \u001b[1;32m2\u001b[0m\n\u001b[1;33m    def f(x=4, y):\u001b[0m\n\u001b[1;37m          ^\u001b[0m\n\u001b[1;31mSyntaxError\u001b[0m\u001b[1;31m:\u001b[0m non-default argument follows default argument\n"
     ]
    }
   ],
   "source": [
    "# Aqui tenta declarar argumentos non-default depois de argumentos default, ver mensagem de erro\n",
    "def f(x=4, y):\n",
    "    print(\"x = \",x)\n",
    "    print(\"y = \",y)"
   ]
  },
  {
   "cell_type": "markdown",
   "metadata": {},
   "source": [
    "____\n",
    "## (2.2) Função com número variável de argumentos:\n",
    "\n",
    "Argumentos são escritos na declaração da função com uso dos símbolos ```*``` e ```**```. Ex: ```def f(*x,**y):```  \n",
    "Sempre serão opcionais, podendo ser passados ou não quando invocar a função, mas não tem valor *default*.  \n",
    "Os argumentos variáveis que começam com ```*``` são atribuídos na forma *positional* e entram na função como **tupla**  \n",
    "Os argumentos variáveis que começam com ```**``` são atribuídos na forma *keyword* e entram na função como **dicionário**\n",
    "____\n",
    "### (2.2.1) Argumentos variáveis passados com ```*``` (*positional* → tupla)\n",
    "O nome do argumento virá depois o símbolo ```*``` na declaração da função  \n",
    "O nome do argumento representará uma **tupla**  na declaração da função  \n",
    "Os elementos da tupla são atribuídos na forma *positional* quando a função é invocada. Não é possível faze-lo na forma *keyword*"
   ]
  },
  {
   "cell_type": "code",
   "execution_count": 30,
   "metadata": {},
   "outputs": [],
   "source": [
    "def f(*x):\n",
    "    print(\"x      = \", x)                # imprime a tupla x\n",
    "    print(\"Tipo   = \", type(x))          # imprime o tipo de x\n",
    "    for i in x:                          \n",
    "        print(\"x[\",x.index(i),\"] = \",i)  # imprime cada elemento da tupla x"
   ]
  },
  {
   "cell_type": "code",
   "execution_count": 31,
   "metadata": {},
   "outputs": [
    {
     "name": "stdout",
     "output_type": "stream",
     "text": [
      "x      =  (7, 8, 98, 24, 9)\n",
      "Tipo   =  <class 'tuple'>\n",
      "x[ 0 ] =  7\n",
      "x[ 1 ] =  8\n",
      "x[ 2 ] =  98\n",
      "x[ 3 ] =  24\n",
      "x[ 4 ] =  9\n"
     ]
    }
   ],
   "source": [
    "f(7,8,98,24,9) # Aqui a função é invocada com 5 argumentos"
   ]
  },
  {
   "cell_type": "code",
   "execution_count": 32,
   "metadata": {},
   "outputs": [
    {
     "name": "stdout",
     "output_type": "stream",
     "text": [
      "x      =  (7, 89)\n",
      "Tipo   =  <class 'tuple'>\n",
      "x[ 0 ] =  7\n",
      "x[ 1 ] =  89\n"
     ]
    }
   ],
   "source": [
    "f(7,89) # Aqui mudou para apenas 2 argumentos"
   ]
  },
  {
   "cell_type": "code",
   "execution_count": 33,
   "metadata": {
    "scrolled": true
   },
   "outputs": [
    {
     "name": "stdout",
     "output_type": "stream",
     "text": [
      "x      =  ()\n",
      "Tipo   =  <class 'tuple'>\n"
     ]
    }
   ],
   "source": [
    "f() # nenhum argumento, mostrando que são opcionais"
   ]
  },
  {
   "cell_type": "code",
   "execution_count": 34,
   "metadata": {},
   "outputs": [
    {
     "ename": "TypeError",
     "evalue": "f() got an unexpected keyword argument 'x'",
     "output_type": "error",
     "traceback": [
      "\u001b[1;31m---------------------------------------------------------------------------\u001b[0m",
      "\u001b[1;31mTypeError\u001b[0m                                 Traceback (most recent call last)",
      "\u001b[1;32m<ipython-input-34-ea28705971da>\u001b[0m in \u001b[0;36m<module>\u001b[1;34m\u001b[0m\n\u001b[1;32m----> 1\u001b[1;33m \u001b[0mf\u001b[0m\u001b[1;33m(\u001b[0m\u001b[0mx\u001b[0m\u001b[1;33m=\u001b[0m\u001b[1;36m7\u001b[0m\u001b[1;33m)\u001b[0m \u001b[1;31m# Erro, a função não admite atribuição keyword na tupla x\u001b[0m\u001b[1;33m\u001b[0m\u001b[1;33m\u001b[0m\u001b[0m\n\u001b[0m",
      "\u001b[1;31mTypeError\u001b[0m: f() got an unexpected keyword argument 'x'"
     ]
    }
   ],
   "source": [
    "f(x=7) # Erro, a função não admite atribuição keyword na tupla x"
   ]
  },
  {
   "cell_type": "markdown",
   "metadata": {},
   "source": [
    "___\n",
    "#### Argumentos keyword-only\n",
    "Se forem passados argumentos **depois** da tupla variável dada pela ```*```, então esses argumentos serão ***keyword-only*** → veja (1.4)  \n",
    "Isso pode ser usado sem passar a tupla variável depois da ```*```, nesse caso a função somente terá argumentos ***keyword-only***  \n",
    "→ Esse último caso foi usado em (1.4) denotado como asterisco \"órfão\""
   ]
  },
  {
   "cell_type": "code",
   "execution_count": 35,
   "metadata": {},
   "outputs": [],
   "source": [
    "def f(*x,a,b):          # Neste exemplo, a e b são keyword-only non-default\n",
    "    print(\"x = \", x)\n",
    "    print(\"a = \", a)\n",
    "    print(\"b = \", b)"
   ]
  },
  {
   "cell_type": "code",
   "execution_count": 36,
   "metadata": {},
   "outputs": [
    {
     "name": "stdout",
     "output_type": "stream",
     "text": [
      "x =  (4, 5, 5, 6, 7, 8)\n",
      "a =  3\n",
      "b =  6\n"
     ]
    }
   ],
   "source": [
    "f(4,5,5,6,7,8,a=3,b=6) # OK"
   ]
  },
  {
   "cell_type": "code",
   "execution_count": 37,
   "metadata": {},
   "outputs": [
    {
     "ename": "TypeError",
     "evalue": "f() missing 2 required keyword-only arguments: 'a' and 'b'",
     "output_type": "error",
     "traceback": [
      "\u001b[1;31m---------------------------------------------------------------------------\u001b[0m",
      "\u001b[1;31mTypeError\u001b[0m                                 Traceback (most recent call last)",
      "\u001b[1;32m<ipython-input-37-7ffaed478873>\u001b[0m in \u001b[0;36m<module>\u001b[1;34m\u001b[0m\n\u001b[1;32m----> 1\u001b[1;33m \u001b[0mf\u001b[0m\u001b[1;33m(\u001b[0m\u001b[1;36m4\u001b[0m\u001b[1;33m,\u001b[0m\u001b[1;36m5\u001b[0m\u001b[1;33m,\u001b[0m\u001b[1;36m5\u001b[0m\u001b[1;33m,\u001b[0m\u001b[1;36m6\u001b[0m\u001b[1;33m,\u001b[0m\u001b[1;36m7\u001b[0m\u001b[1;33m,\u001b[0m\u001b[1;36m8\u001b[0m\u001b[1;33m,\u001b[0m\u001b[1;36m3\u001b[0m\u001b[1;33m,\u001b[0m\u001b[1;36m6\u001b[0m\u001b[1;33m)\u001b[0m \u001b[1;31m# Erro, pois a e b são keyword-only non-default\u001b[0m\u001b[1;33m\u001b[0m\u001b[1;33m\u001b[0m\u001b[0m\n\u001b[0m",
      "\u001b[1;31mTypeError\u001b[0m: f() missing 2 required keyword-only arguments: 'a' and 'b'"
     ]
    }
   ],
   "source": [
    "f(4,5,5,6,7,8,3,6) # Erro, pois a e b são keyword-only non-default"
   ]
  },
  {
   "cell_type": "code",
   "execution_count": 38,
   "metadata": {},
   "outputs": [],
   "source": [
    "def f(*x,a=70,b=80): # Novo exemplo, a e b são keyword-only default\n",
    "    print(\"x = \", x)\n",
    "    print(\"a = \", a)\n",
    "    print(\"b = \", b)"
   ]
  },
  {
   "cell_type": "code",
   "execution_count": 39,
   "metadata": {},
   "outputs": [
    {
     "name": "stdout",
     "output_type": "stream",
     "text": [
      "x =  (4, 5, 5, 6, 7, 8, 3, 6)\n",
      "a =  70\n",
      "b =  80\n"
     ]
    }
   ],
   "source": [
    "f(4,5,5,6,7,8,3,6) # Não dá Erro, pois a e b são keyword-only default"
   ]
  },
  {
   "cell_type": "code",
   "execution_count": 40,
   "metadata": {},
   "outputs": [],
   "source": [
    "# Aqui a função é parecida com a do exemplo usado em (1.4): a função só tem argumentos keyword-only\n",
    "# Porém, aqui os argumentos keyword-only são default\n",
    "def f(*,x=4,y=5):\n",
    "    print(\"x = \", x)\n",
    "    print(\"y = \", y)"
   ]
  },
  {
   "cell_type": "code",
   "execution_count": 41,
   "metadata": {},
   "outputs": [
    {
     "ename": "TypeError",
     "evalue": "f() takes 0 positional arguments but 2 were given",
     "output_type": "error",
     "traceback": [
      "\u001b[1;31m---------------------------------------------------------------------------\u001b[0m",
      "\u001b[1;31mTypeError\u001b[0m                                 Traceback (most recent call last)",
      "\u001b[1;32m<ipython-input-41-fd0b4659c233>\u001b[0m in \u001b[0;36m<module>\u001b[1;34m\u001b[0m\n\u001b[1;32m----> 1\u001b[1;33m \u001b[0mf\u001b[0m\u001b[1;33m(\u001b[0m\u001b[1;36m40\u001b[0m\u001b[1;33m,\u001b[0m\u001b[1;36m8\u001b[0m\u001b[1;33m)\u001b[0m \u001b[1;31m# Erro: a função só tem argumentos keyword-only\u001b[0m\u001b[1;33m\u001b[0m\u001b[1;33m\u001b[0m\u001b[0m\n\u001b[0m",
      "\u001b[1;31mTypeError\u001b[0m: f() takes 0 positional arguments but 2 were given"
     ]
    }
   ],
   "source": [
    "f(40,8) # Erro: a função só tem argumentos keyword-only"
   ]
  },
  {
   "cell_type": "code",
   "execution_count": 42,
   "metadata": {},
   "outputs": [
    {
     "name": "stdout",
     "output_type": "stream",
     "text": [
      "x =  4\n",
      "y =  5\n"
     ]
    }
   ],
   "source": [
    "f() # Não dá erro pois, a apesar da função só ter argumentos keyword-only, esses são default"
   ]
  },
  {
   "cell_type": "markdown",
   "metadata": {
    "hideCode": false
   },
   "source": [
    "___\n",
    "#### Argumentos fixos\n",
    "Se forem passados argumentos **antes** da tupla variável dada pela ```*```, então esses argumentos serão **fixos**  \n",
    "Na invocação da função, deve serguir as regras anteriores"
   ]
  },
  {
   "cell_type": "code",
   "execution_count": 43,
   "metadata": {},
   "outputs": [],
   "source": [
    "def f(a,b=2,*x):\n",
    "    print(\"a = \", a)\n",
    "    print(\"b = \", b)\n",
    "    print(\"x = \", x)"
   ]
  },
  {
   "cell_type": "code",
   "execution_count": 44,
   "metadata": {},
   "outputs": [
    {
     "name": "stdout",
     "output_type": "stream",
     "text": [
      "a =  4\n",
      "b =  7\n",
      "x =  (8, 6, 9)\n"
     ]
    }
   ],
   "source": [
    "f(4,7,8,6,9) #  8,6,9 vai para tupla"
   ]
  },
  {
   "cell_type": "code",
   "execution_count": 45,
   "metadata": {},
   "outputs": [
    {
     "name": "stdout",
     "output_type": "stream",
     "text": [
      "a =  9\n",
      "b =  8\n",
      "x =  ()\n"
     ]
    }
   ],
   "source": [
    "f(b=8,a=9) # Tupla vazia"
   ]
  },
  {
   "cell_type": "code",
   "execution_count": 46,
   "metadata": {},
   "outputs": [
    {
     "ename": "SyntaxError",
     "evalue": "positional argument follows keyword argument (<ipython-input-46-178ab36c85b3>, line 1)",
     "output_type": "error",
     "traceback": [
      "\u001b[1;36m  File \u001b[1;32m\"<ipython-input-46-178ab36c85b3>\"\u001b[1;36m, line \u001b[1;32m1\u001b[0m\n\u001b[1;33m    f(a=8,b=9,7,7,8) # Erro, não é permitido, veja (1.2)\u001b[0m\n\u001b[1;37m              ^\u001b[0m\n\u001b[1;31mSyntaxError\u001b[0m\u001b[1;31m:\u001b[0m positional argument follows keyword argument\n"
     ]
    }
   ],
   "source": [
    "f(a=8,b=9,7,7,8) # Erro, não é permitido, veja (1.2)"
   ]
  },
  {
   "cell_type": "code",
   "execution_count": 47,
   "metadata": {},
   "outputs": [
    {
     "name": "stdout",
     "output_type": "stream",
     "text": [
      "a =  8\n",
      "b =  2\n",
      "x =  ()\n"
     ]
    }
   ],
   "source": [
    "f(a=8) # b é fixo default"
   ]
  },
  {
   "cell_type": "code",
   "execution_count": 48,
   "metadata": {},
   "outputs": [
    {
     "ename": "TypeError",
     "evalue": "f() missing 1 required positional argument: 'a'",
     "output_type": "error",
     "traceback": [
      "\u001b[1;31m---------------------------------------------------------------------------\u001b[0m",
      "\u001b[1;31mTypeError\u001b[0m                                 Traceback (most recent call last)",
      "\u001b[1;32m<ipython-input-48-fc811d704bd7>\u001b[0m in \u001b[0;36m<module>\u001b[1;34m\u001b[0m\n\u001b[1;32m----> 1\u001b[1;33m \u001b[0mf\u001b[0m\u001b[1;33m(\u001b[0m\u001b[1;33m)\u001b[0m \u001b[1;31m# Erro, a é fixo non-default\u001b[0m\u001b[1;33m\u001b[0m\u001b[1;33m\u001b[0m\u001b[0m\n\u001b[0m",
      "\u001b[1;31mTypeError\u001b[0m: f() missing 1 required positional argument: 'a'"
     ]
    }
   ],
   "source": [
    "f() # Erro, a é fixo non-default"
   ]
  },
  {
   "cell_type": "markdown",
   "metadata": {},
   "source": [
    "____\n",
    "### (2.2.2) Argumentos variáveis passados com ```**``` (*keyword* → dicionário)\n",
    "O nome do argumento virá depois o símbolo ```**``` na declaração da função  \n",
    "O nome do argumento representará um **dicionário**  na declaração da função  \n",
    "Os elementos do dicionário são atribuídos na forma *keyword* quando a função é invocada. Não é possível faze-lo na forma *positional*"
   ]
  },
  {
   "cell_type": "code",
   "execution_count": 49,
   "metadata": {},
   "outputs": [],
   "source": [
    "def f(**x):\n",
    "    print(\"x      = \", x)                # imprime o dicionário x\n",
    "    print(\"Tipo   = \", type(x))          # imprime o tipo de x\n",
    "    for i in x.keys():                          \n",
    "        print(i,\":\",x[i])                # imprime cada elemento do dicionário x"
   ]
  },
  {
   "cell_type": "code",
   "execution_count": 50,
   "metadata": {
    "scrolled": true
   },
   "outputs": [
    {
     "name": "stdout",
     "output_type": "stream",
     "text": [
      "x      =  {'a': 5, 'b': 7}\n",
      "Tipo   =  <class 'dict'>\n",
      "a : 5\n",
      "b : 7\n"
     ]
    }
   ],
   "source": [
    "f(a=5,b=7)"
   ]
  },
  {
   "cell_type": "code",
   "execution_count": 51,
   "metadata": {},
   "outputs": [
    {
     "name": "stdout",
     "output_type": "stream",
     "text": [
      "x      =  {}\n",
      "Tipo   =  <class 'dict'>\n"
     ]
    }
   ],
   "source": [
    "f() # nenhum argumento, mostrando que são opcionais"
   ]
  },
  {
   "cell_type": "code",
   "execution_count": 52,
   "metadata": {},
   "outputs": [
    {
     "ename": "TypeError",
     "evalue": "f() takes 0 positional arguments but 2 were given",
     "output_type": "error",
     "traceback": [
      "\u001b[1;31m---------------------------------------------------------------------------\u001b[0m",
      "\u001b[1;31mTypeError\u001b[0m                                 Traceback (most recent call last)",
      "\u001b[1;32m<ipython-input-52-f99215c36f10>\u001b[0m in \u001b[0;36m<module>\u001b[1;34m\u001b[0m\n\u001b[1;32m----> 1\u001b[1;33m \u001b[0mf\u001b[0m\u001b[1;33m(\u001b[0m\u001b[1;36m7\u001b[0m\u001b[1;33m,\u001b[0m\u001b[1;36m5\u001b[0m\u001b[1;33m)\u001b[0m \u001b[1;31m# erro, não é possível, a função não admite atribuição positional no dicionário x\u001b[0m\u001b[1;33m\u001b[0m\u001b[1;33m\u001b[0m\u001b[0m\n\u001b[0m",
      "\u001b[1;31mTypeError\u001b[0m: f() takes 0 positional arguments but 2 were given"
     ]
    }
   ],
   "source": [
    "f(7,5) # erro, não é possível, a função não admite atribuição positional no dicionário x"
   ]
  },
  {
   "cell_type": "markdown",
   "metadata": {},
   "source": [
    "___\n",
    "#### Argumentos fixos\n",
    "Se forem passados argumentos **antes** do dicionário variável dado por ```**```, então esses argumentos serão **fixos**  \n",
    "e poderão ser atribuídos na forma *positional* ou *keyword*, seguindo as regras anteriores  \n",
    "Estes argumentos poderão ser declarados como *default* ou *non-default*, seguindo as regras anteriores  \n",
    "Não é permitido passar argumentos **depois** do dicionário variável dado por ```**```"
   ]
  },
  {
   "cell_type": "code",
   "execution_count": 53,
   "metadata": {},
   "outputs": [],
   "source": [
    "def f(a,b,**x):      # a e b fixos, non-default\n",
    "    print(\"a = \",a)\n",
    "    print(\"b = \",b)\n",
    "    print(\"x = \",x)"
   ]
  },
  {
   "cell_type": "code",
   "execution_count": 54,
   "metadata": {},
   "outputs": [
    {
     "name": "stdout",
     "output_type": "stream",
     "text": [
      "a =  1\n",
      "b =  3\n",
      "x =  {'e': 7, 'h': 32}\n"
     ]
    }
   ],
   "source": [
    "f(a=1,b=3,e=7,h=32) # a e b passados como keyword"
   ]
  },
  {
   "cell_type": "code",
   "execution_count": 55,
   "metadata": {},
   "outputs": [
    {
     "name": "stdout",
     "output_type": "stream",
     "text": [
      "a =  1\n",
      "b =  3\n",
      "x =  {'e': 7, 'h': 32}\n"
     ]
    }
   ],
   "source": [
    "f(1,3,e=7,h=32) # a e b passados como positional"
   ]
  },
  {
   "cell_type": "code",
   "execution_count": 56,
   "metadata": {},
   "outputs": [
    {
     "name": "stdout",
     "output_type": "stream",
     "text": [
      "a =  1\n",
      "b =  3\n",
      "x =  {'e': 7, 'h': 32}\n"
     ]
    }
   ],
   "source": [
    "f(1,b=3,e=7,h=32) # a passado como positional, b como keyword"
   ]
  },
  {
   "cell_type": "code",
   "execution_count": 57,
   "metadata": {},
   "outputs": [
    {
     "ename": "TypeError",
     "evalue": "f() missing 2 required positional arguments: 'a' and 'b'",
     "output_type": "error",
     "traceback": [
      "\u001b[1;31m---------------------------------------------------------------------------\u001b[0m",
      "\u001b[1;31mTypeError\u001b[0m                                 Traceback (most recent call last)",
      "\u001b[1;32m<ipython-input-57-7d3e8137c252>\u001b[0m in \u001b[0;36m<module>\u001b[1;34m\u001b[0m\n\u001b[1;32m----> 1\u001b[1;33m \u001b[0mf\u001b[0m\u001b[1;33m(\u001b[0m\u001b[0me\u001b[0m\u001b[1;33m=\u001b[0m\u001b[1;36m7\u001b[0m\u001b[1;33m,\u001b[0m\u001b[0mh\u001b[0m\u001b[1;33m=\u001b[0m\u001b[1;36m32\u001b[0m\u001b[1;33m)\u001b[0m \u001b[1;31m# Erro, a e b devem ser passados, pois são non-default (obrigatórios)\u001b[0m\u001b[1;33m\u001b[0m\u001b[1;33m\u001b[0m\u001b[0m\n\u001b[0m",
      "\u001b[1;31mTypeError\u001b[0m: f() missing 2 required positional arguments: 'a' and 'b'"
     ]
    }
   ],
   "source": [
    "f(e=7,h=32) # Erro, a e b devem ser passados, pois são non-default (obrigatórios)"
   ]
  },
  {
   "cell_type": "code",
   "execution_count": 58,
   "metadata": {},
   "outputs": [],
   "source": [
    "def f(a=9,b=7,**x):      # Novo exemplo: a e b fixos, agora são default (opcionais)\n",
    "    print(\"a = \",a)\n",
    "    print(\"b = \",b)\n",
    "    print(\"x = \",x)"
   ]
  },
  {
   "cell_type": "code",
   "execution_count": 59,
   "metadata": {},
   "outputs": [
    {
     "name": "stdout",
     "output_type": "stream",
     "text": [
      "a =  1\n",
      "b =  3\n",
      "x =  {'e': 7, 'h': 32}\n"
     ]
    }
   ],
   "source": [
    "f(a=1,b=3,e=7,h=32) # a e b passados como keyword"
   ]
  },
  {
   "cell_type": "code",
   "execution_count": 60,
   "metadata": {},
   "outputs": [
    {
     "name": "stdout",
     "output_type": "stream",
     "text": [
      "a =  1\n",
      "b =  3\n",
      "x =  {'e': 7, 'h': 32}\n"
     ]
    }
   ],
   "source": [
    "f(1,3,e=7,h=32) # a e b passados como positional"
   ]
  },
  {
   "cell_type": "code",
   "execution_count": 61,
   "metadata": {},
   "outputs": [
    {
     "name": "stdout",
     "output_type": "stream",
     "text": [
      "a =  9\n",
      "b =  7\n",
      "x =  {'e': 7, 'h': 32}\n"
     ]
    }
   ],
   "source": [
    "f(e=7,h=32)  # a e b não passados, são default (opcionais)"
   ]
  },
  {
   "cell_type": "code",
   "execution_count": 62,
   "metadata": {},
   "outputs": [
    {
     "ename": "SyntaxError",
     "evalue": "invalid syntax (<ipython-input-62-577ee576cb54>, line 1)",
     "output_type": "error",
     "traceback": [
      "\u001b[1;36m  File \u001b[1;32m\"<ipython-input-62-577ee576cb54>\"\u001b[1;36m, line \u001b[1;32m1\u001b[0m\n\u001b[1;33m    def f(a,b,**x,c): # não é permitido (argumentos depois do dicionário **x)\u001b[0m\n\u001b[1;37m                  ^\u001b[0m\n\u001b[1;31mSyntaxError\u001b[0m\u001b[1;31m:\u001b[0m invalid syntax\n"
     ]
    }
   ],
   "source": [
    "def f(a,b,**x,c): # não é permitido (argumentos depois do dicionário **x)\n",
    "    pass"
   ]
  },
  {
   "cell_type": "markdown",
   "metadata": {},
   "source": [
    "___\n",
    "## É possível misturar os 6 tipos de argumentos na declaração da função\n",
    "Deve-se seguir todas as regras anteriores.  \n",
    "Na função abaixo tem-se:\n",
    "* a → *positional-only* (sempre fixo):\n",
    "* b → Fixo *non default*  \n",
    "* c → Fixo *default*  \n",
    "* x → Variável *positional*\n",
    "* y → Variável *keyword*\n",
    "* d,e → *keyword-only* (sempre fixo):\n",
    "  * d → *non default*\n",
    "  * e → *default*"
   ]
  },
  {
   "cell_type": "code",
   "execution_count": 63,
   "metadata": {},
   "outputs": [],
   "source": [
    "def f( a , / , b ,  c=5 , *x , d , e=6 , **y ):\n",
    "    print(\"      pos-only: a = \",a)\n",
    "    print(\"  fixo non-def: b = \",b)\n",
    "    print(\"      fixo def: c = \",c)\n",
    "    print(\"tupla variavel: x = \",x)\n",
    "    print(\"kw-only no-def: d = \",d)\n",
    "    print(\"   kw-only def: e = \",e)\n",
    "    print(\" dict variavel: y = \",y)"
   ]
  },
  {
   "cell_type": "code",
   "execution_count": 64,
   "metadata": {},
   "outputs": [
    {
     "name": "stdout",
     "output_type": "stream",
     "text": [
      "      pos-only: a =  33\n",
      "  fixo non-def: b =  3\n",
      "      fixo def: c =  7\n",
      "tupla variavel: x =  ()\n",
      "kw-only no-def: d =  56\n",
      "   kw-only def: e =  6\n",
      " dict variavel: y =  {'h': 90}\n"
     ]
    }
   ],
   "source": [
    "f( 33 , b=3 , c=7 , d=56 , h=90 )"
   ]
  },
  {
   "cell_type": "code",
   "execution_count": 65,
   "metadata": {},
   "outputs": [
    {
     "name": "stdout",
     "output_type": "stream",
     "text": [
      "      pos-only: a =  33\n",
      "  fixo non-def: b =  24\n",
      "      fixo def: c =  5\n",
      "tupla variavel: x =  ()\n",
      "kw-only no-def: d =  7\n",
      "   kw-only def: e =  6\n",
      " dict variavel: y =  {}\n"
     ]
    }
   ],
   "source": [
    "f( 33, 24 , d=7 ) # Todos default (opcionais) não foram atribuídos (inclusive os variáveis)"
   ]
  },
  {
   "cell_type": "markdown",
   "metadata": {},
   "source": [
    "____\n",
    "### É possível passar argumentos *positional* e *keyword*, ao invocar a função, usando **tupla** e **dicionário**\n",
    "Usa-se a mesma notação ```*``` e ```**``` usadas na declaração.  "
   ]
  },
  {
   "cell_type": "code",
   "execution_count": 66,
   "metadata": {},
   "outputs": [],
   "source": [
    "def f(x,y):\n",
    "    print(\"x = \",x)\n",
    "    print(\"y = \",y)"
   ]
  },
  {
   "cell_type": "code",
   "execution_count": 67,
   "metadata": {},
   "outputs": [],
   "source": [
    "t = (7,9)         # definindo tupla de valores\n",
    "d = {'y':9,'x':7} # definindo dicionário de valores "
   ]
  },
  {
   "cell_type": "code",
   "execution_count": 68,
   "metadata": {},
   "outputs": [
    {
     "name": "stdout",
     "output_type": "stream",
     "text": [
      "x =  7\n",
      "y =  9\n"
     ]
    }
   ],
   "source": [
    "f(*t) # Argumentos positional passados com tupla"
   ]
  },
  {
   "cell_type": "code",
   "execution_count": 69,
   "metadata": {},
   "outputs": [
    {
     "name": "stdout",
     "output_type": "stream",
     "text": [
      "x =  7\n",
      "y =  9\n"
     ]
    }
   ],
   "source": [
    "f(**d) # Argumentos keyword passados com dicionário"
   ]
  }
 ],
 "metadata": {
  "kernelspec": {
   "display_name": "Python 3 (ipykernel)",
   "language": "python",
   "name": "python3"
  },
  "language_info": {
   "codemirror_mode": {
    "name": "ipython",
    "version": 3
   },
   "file_extension": ".py",
   "mimetype": "text/x-python",
   "name": "python",
   "nbconvert_exporter": "python",
   "pygments_lexer": "ipython3",
   "version": "3.9.7"
  }
 },
 "nbformat": 4,
 "nbformat_minor": 4
}
