{
 "cells": [
  {
   "cell_type": "markdown",
   "metadata": {},
   "source": [
    "## Principal diferença entre acesso a matriz: Matlab → Python\n",
    "   A principal diferença está no acesso a **colunas**\n",
    "   \n",
    "   **Não vi isso explícito em nenhum site**\n",
    "   \n",
    "   ___\n",
    "   \n",
    "   Gerando uma matriz  \n",
    "   (números inteiros aleatórios de 0 a 10, 8 linhas, 5 colunas)"
   ]
  },
  {
   "cell_type": "code",
   "execution_count": 1,
   "metadata": {},
   "outputs": [
    {
     "data": {
      "text/plain": [
       "array([[0, 0, 5, 1, 6],\n",
       "       [6, 5, 0, 1, 6],\n",
       "       [8, 8, 3, 1, 9],\n",
       "       [7, 7, 0, 6, 9],\n",
       "       [6, 8, 0, 5, 8],\n",
       "       [3, 2, 8, 6, 0],\n",
       "       [9, 9, 3, 5, 3],\n",
       "       [8, 0, 7, 9, 4]])"
      ]
     },
     "execution_count": 1,
     "metadata": {},
     "output_type": "execute_result"
    }
   ],
   "source": [
    "from numpy import *\n",
    "A = random.randint(0,10,(8,5))\n",
    "A"
   ]
  },
  {
   "cell_type": "markdown",
   "metadata": {},
   "source": [
    "___\n",
    "Usando a mesma matriz no Matlab:\n",
    "```\n",
    "--> A =[0, 0, 5, 1, 6;\n",
    "  >     6, 5, 0, 1, 6;\n",
    "  >     8, 8, 3, 1, 9;\n",
    "  >     7, 7, 0, 6, 9;\n",
    "  >     6, 8, 0, 5, 8;\n",
    "  >     3, 2, 8, 6, 0;\n",
    "  >     9, 9, 3, 5, 3;\n",
    "  >     8, 0, 7, 9, 4]\n",
    "  \n",
    " A  =\n",
    "\n",
    "   0.   0.   5.   1.   6.\n",
    "   6.   5.   0.   1.   6.\n",
    "   8.   8.   3.   1.   9.\n",
    "   7.   7.   0.   6.   9.\n",
    "   6.   8.   0.   5.   8.\n",
    "   3.   2.   8.   6.   0.\n",
    "   9.   9.   3.   5.   3.\n",
    "   8.   0.   7.   9.   4.\n",
    "```\n",
    "___\n",
    "### Acesso a uma submatriz no Matlab:  \n",
    "Exemplo: Linhas 3 até a 5, coluna 2 até a 4\n",
    "```\n",
    "--> A(3:5,2:4)\n",
    " ans  =\n",
    "\n",
    "   8.   3.   1.\n",
    "   7.   0.   6.\n",
    "   8.   0.   5.\n",
    "```\n",
    "___\n",
    "### Acessando a mesma submatriz no Python.\n",
    "* Usar `[]` ao invéz de `()`\n",
    "* Como é 'zero-based', a linha `3` vira a linha `2`\n",
    "* A linha `5` vira a linha `4`, pelo mesmo motivo.\n",
    "* Porém, com o último índice é 'exclusive', para ir até a linha `4`, usa-se a linha `5` mesmo\n",
    "* Mesmo acontece para coluna: `(2:4)` vira `[1:4]`"
   ]
  },
  {
   "cell_type": "code",
   "execution_count": 2,
   "metadata": {},
   "outputs": [
    {
     "data": {
      "text/plain": [
       "array([[8, 3, 1],\n",
       "       [7, 0, 6],\n",
       "       [8, 0, 5]])"
      ]
     },
     "execution_count": 2,
     "metadata": {},
     "output_type": "execute_result"
    }
   ],
   "source": [
    "A[2:5,1:4]"
   ]
  },
  {
   "cell_type": "markdown",
   "metadata": {},
   "source": [
    "___\n",
    "### Acessando uma linha no Matlab\n",
    "\n",
    "Exemplo: linha `4`\n",
    "\n",
    "```\n",
    "--> A(4,:)\n",
    " ans  =\n",
    "\n",
    "   7.   7.   0.   6.   9.\n",
    "\n",
    "```\n",
    "Notar que o vetor-linha final tem 2 dimensões\n",
    "```\n",
    "--> size(ans)\n",
    " ans  =   \n",
    "\n",
    "   1.   5.\n",
    "```\n",
    "___\n",
    "### Acessando a mesma linha no Python\n",
    "Linha `4` terá índice `3`"
   ]
  },
  {
   "cell_type": "code",
   "execution_count": 3,
   "metadata": {},
   "outputs": [
    {
     "data": {
      "text/plain": [
       "array([7, 7, 0, 6, 9])"
      ]
     },
     "execution_count": 3,
     "metadata": {},
     "output_type": "execute_result"
    }
   ],
   "source": [
    "A[3,:]"
   ]
  },
  {
   "cell_type": "markdown",
   "metadata": {},
   "source": [
    "**Porém**, atentar que este vetor-final tem 1 dimensão"
   ]
  },
  {
   "cell_type": "code",
   "execution_count": 4,
   "metadata": {},
   "outputs": [
    {
     "data": {
      "text/plain": [
       "(5,)"
      ]
     },
     "execution_count": 4,
     "metadata": {},
     "output_type": "execute_result"
    }
   ],
   "source": [
    "shape(A[3,:])"
   ]
  },
  {
   "cell_type": "markdown",
   "metadata": {},
   "source": [
    "Ou seja, transpor a linha não altera nada"
   ]
  },
  {
   "cell_type": "code",
   "execution_count": 5,
   "metadata": {},
   "outputs": [
    {
     "data": {
      "text/plain": [
       "array([7, 7, 0, 6, 9])"
      ]
     },
     "execution_count": 5,
     "metadata": {},
     "output_type": "execute_result"
    }
   ],
   "source": [
    "transpose(A[3,:])"
   ]
  },
  {
   "cell_type": "markdown",
   "metadata": {},
   "source": [
    "___\n",
    "### Acessando a linha com duas dimensões (como ocorre no Matlab):\n",
    "Para acessar o vetor anterior com **duas** dimensões, há duas formas:\n",
    "1. Selecionar o índice ``3`` como uma *lista* (objeto iterável): ``[3]``\n",
    "2. Selecionar o índice ``3`` como uma *Slice*: ``3:4`` (acaba que também é um objeto iterável)\n",
    "\n",
    "No segundo caso, o índice vai de **``3`` até ``4`` exclusive**, ou seja, vai de ``3`` até ``3``,  \n",
    "selecionando, assim, a linha ``3`` (que equivale à linha ``4``, pois é 'zero-based')\n",
    "\n",
    "#### Exemplo de uso do caso (1.)"
   ]
  },
  {
   "cell_type": "code",
   "execution_count": 6,
   "metadata": {},
   "outputs": [
    {
     "data": {
      "text/plain": [
       "array([[7, 7, 0, 6, 9]])"
      ]
     },
     "execution_count": 6,
     "metadata": {},
     "output_type": "execute_result"
    }
   ],
   "source": [
    "A[[3],:]"
   ]
  },
  {
   "cell_type": "markdown",
   "metadata": {},
   "source": [
    "#### Exemplo de uso do caso (2.)"
   ]
  },
  {
   "cell_type": "code",
   "execution_count": 7,
   "metadata": {},
   "outputs": [
    {
     "data": {
      "text/plain": [
       "array([[7, 7, 0, 6, 9]])"
      ]
     },
     "execution_count": 7,
     "metadata": {},
     "output_type": "execute_result"
    }
   ],
   "source": [
    "A[3:4,:]"
   ]
  },
  {
   "cell_type": "markdown",
   "metadata": {},
   "source": [
    "Notar que as respostas estão dentro de ``[[ ]]``, e não somente de ``[ ]``, mostrando que agora temos uma matriz de 2 dimensões, igual no Matlab"
   ]
  },
  {
   "cell_type": "code",
   "execution_count": 8,
   "metadata": {},
   "outputs": [
    {
     "data": {
      "text/plain": [
       "(1, 5)"
      ]
     },
     "execution_count": 8,
     "metadata": {},
     "output_type": "execute_result"
    }
   ],
   "source": [
    "shape(A[[3],:]) # Caso (1.)"
   ]
  },
  {
   "cell_type": "code",
   "execution_count": 9,
   "metadata": {},
   "outputs": [
    {
     "data": {
      "text/plain": [
       "(1, 5)"
      ]
     },
     "execution_count": 9,
     "metadata": {},
     "output_type": "execute_result"
    }
   ],
   "source": [
    "shape(A[3:4,:]) # Caso (2.)"
   ]
  },
  {
   "cell_type": "markdown",
   "metadata": {},
   "source": [
    "Isso fica mais evidente ao tentar acessar colunas\n",
    "___\n",
    "### Acessando uma coluna no Matlab\n",
    "Exemplo: coluna ``3``\n",
    "```\n",
    "--> A(:,3)\n",
    " ans  =\n",
    "\n",
    "   5.\n",
    "   0.\n",
    "   3.\n",
    "   0.\n",
    "   0.\n",
    "   8.\n",
    "   3.\n",
    "   7.\n",
    "\n",
    "--> size(ans)\n",
    " ans  =\n",
    "\n",
    "   8.   1.\n",
    " ```\n",
    " ___\n",
    "### Acessando da mesma coluna no Python \n",
    "Coluna `3` vira índice `2`"
   ]
  },
  {
   "cell_type": "code",
   "execution_count": 10,
   "metadata": {},
   "outputs": [
    {
     "data": {
      "text/plain": [
       "array([5, 0, 3, 0, 0, 8, 3, 7])"
      ]
     },
     "execution_count": 10,
     "metadata": {},
     "output_type": "execute_result"
    }
   ],
   "source": [
    "A[:,2]"
   ]
  },
  {
   "cell_type": "markdown",
   "metadata": {},
   "source": [
    "Encontra-se novamente um vetor de 1 dimensão (só um ``[ ]``)"
   ]
  },
  {
   "cell_type": "code",
   "execution_count": 11,
   "metadata": {},
   "outputs": [
    {
     "data": {
      "text/plain": [
       "(8,)"
      ]
     },
     "execution_count": 11,
     "metadata": {},
     "output_type": "execute_result"
    }
   ],
   "source": [
    "shape(A[:,2])"
   ]
  },
  {
   "cell_type": "markdown",
   "metadata": {},
   "source": [
    "Mas fazendo o índice igual à variável **linha ``[2]``** ou como o **slice ``2:3``** (``2`` até ``3`` **exclusive**, ou seja, de ``2`` até ``2``)  \n",
    "Tem-se o mesmo resultado do Matlab (coluna ``3`` da matriz)"
   ]
  },
  {
   "cell_type": "code",
   "execution_count": 12,
   "metadata": {},
   "outputs": [
    {
     "data": {
      "text/plain": [
       "array([[5],\n",
       "       [0],\n",
       "       [3],\n",
       "       [0],\n",
       "       [0],\n",
       "       [8],\n",
       "       [3],\n",
       "       [7]])"
      ]
     },
     "execution_count": 12,
     "metadata": {},
     "output_type": "execute_result"
    }
   ],
   "source": [
    "A[:,[2]] # Caso (1.)"
   ]
  },
  {
   "cell_type": "code",
   "execution_count": 13,
   "metadata": {},
   "outputs": [
    {
     "data": {
      "text/plain": [
       "(8, 1)"
      ]
     },
     "execution_count": 13,
     "metadata": {},
     "output_type": "execute_result"
    }
   ],
   "source": [
    "shape(A[:,[2]])"
   ]
  },
  {
   "cell_type": "code",
   "execution_count": 14,
   "metadata": {},
   "outputs": [
    {
     "data": {
      "text/plain": [
       "array([[5],\n",
       "       [0],\n",
       "       [3],\n",
       "       [0],\n",
       "       [0],\n",
       "       [8],\n",
       "       [3],\n",
       "       [7]])"
      ]
     },
     "execution_count": 14,
     "metadata": {},
     "output_type": "execute_result"
    }
   ],
   "source": [
    "A[:,2:3] # Caso (2.)"
   ]
  },
  {
   "cell_type": "code",
   "execution_count": 15,
   "metadata": {},
   "outputs": [
    {
     "data": {
      "text/plain": [
       "(8, 1)"
      ]
     },
     "execution_count": 15,
     "metadata": {},
     "output_type": "execute_result"
    }
   ],
   "source": [
    "shape(A[:,2:3])"
   ]
  },
  {
   "cell_type": "markdown",
   "metadata": {},
   "source": [
    "___\n",
    "### Objeto Matrix\n",
    "Existe ainda o objeto 'Matrix' no Numpy, que se comporta como uma matriz do Matlab  \n",
    "Este objeto pode ser criado a partir de um array"
   ]
  },
  {
   "cell_type": "code",
   "execution_count": 16,
   "metadata": {},
   "outputs": [
    {
     "data": {
      "text/plain": [
       "matrix([[0, 0, 5, 1, 6],\n",
       "        [6, 5, 0, 1, 6],\n",
       "        [8, 8, 3, 1, 9],\n",
       "        [7, 7, 0, 6, 9],\n",
       "        [6, 8, 0, 5, 8],\n",
       "        [3, 2, 8, 6, 0],\n",
       "        [9, 9, 3, 5, 3],\n",
       "        [8, 0, 7, 9, 4]])"
      ]
     },
     "execution_count": 16,
     "metadata": {},
     "output_type": "execute_result"
    }
   ],
   "source": [
    "M = matrix(A)\n",
    "M"
   ]
  },
  {
   "cell_type": "markdown",
   "metadata": {},
   "source": [
    "O acesso aos elementos se dá mais parecido com o Matlab.  \n",
    "A coluna anterior, por exemplo (coluna `3`), se acessa da seguinte forma:"
   ]
  },
  {
   "cell_type": "code",
   "execution_count": 17,
   "metadata": {},
   "outputs": [
    {
     "data": {
      "text/plain": [
       "matrix([[5],\n",
       "        [0],\n",
       "        [3],\n",
       "        [0],\n",
       "        [0],\n",
       "        [8],\n",
       "        [3],\n",
       "        [7]])"
      ]
     },
     "execution_count": 17,
     "metadata": {},
     "output_type": "execute_result"
    }
   ],
   "source": [
    "M[:,2]"
   ]
  },
  {
   "cell_type": "markdown",
   "metadata": {},
   "source": [
    "___\n",
    "Porém, como indicado nesta página:\n",
    "\n",
    "https://numpy.org/devdocs/user/numpy-for-matlab-users.html#array-or-matrix-which-should-i-use  \n",
    "\n",
    "É mais recomendado continuar usando o obejto array"
   ]
  }
 ],
 "metadata": {
  "file_extension": ".py",
  "kernelspec": {
   "display_name": "Python 3 (ipykernel)",
   "language": "python",
   "name": "python3"
  },
  "language_info": {
   "codemirror_mode": {
    "name": "ipython",
    "version": 3
   },
   "file_extension": ".py",
   "mimetype": "text/x-python",
   "name": "python",
   "nbconvert_exporter": "python",
   "pygments_lexer": "ipython3",
   "version": "3.9.7"
  },
  "mimetype": "text/x-python",
  "name": "python",
  "npconvert_exporter": "python",
  "pygments_lexer": "ipython3",
  "version": 3
 },
 "nbformat": 4,
 "nbformat_minor": 4
}
