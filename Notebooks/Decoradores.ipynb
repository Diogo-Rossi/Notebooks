{
 "cells": [
  {
   "cell_type": "markdown",
   "metadata": {},
   "source": [
    "# Decoradores\n",
    "Decoradores são funções que recebem outras funções como argumento (entrada), e retornam uma função como saída.  \n",
    "São usados, em geral, para modificar e/ou extender o comportamento da função de entrada.\n",
    "\n",
    "Uso muito comum em decoradores internos **pré-definidos**  \n",
    "Ex: ```property``` (interno do Python); ```QtCore.pyqtSlot``` (do pacote [PyQt5](https://www.riverbankcomputing.com/software/pyqt/)); ```pytest.mark.parametrize``` (da biblioteca [pytest](https://docs.pytest.org/)) entre outros"
   ]
  },
  {
   "cell_type": "markdown",
   "metadata": {},
   "source": [
    "___\n",
    "### Exemplo 1: Decorador simples que não muda a função de entrada\n",
    "A função ```f(g)``` abaixo é um **decorador**: ela recebe uma função ```g``` como argumento e retorna uma função que, **neste exemplo**, é a própria função ```g```."
   ]
  },
  {
   "cell_type": "code",
   "execution_count": 1,
   "metadata": {},
   "outputs": [],
   "source": [
    "def f(g):\n",
    "    return g"
   ]
  },
  {
   "cell_type": "markdown",
   "metadata": {},
   "source": [
    "Para esta função de saída ser usada, ela pode ser atribuída a um novo nome  \n",
    "\n",
    "Exemplo: definida a função ```g(x)``` abaixo"
   ]
  },
  {
   "cell_type": "code",
   "execution_count": 2,
   "metadata": {},
   "outputs": [],
   "source": [
    "def g(x):\n",
    "    return x**2"
   ]
  },
  {
   "cell_type": "code",
   "execution_count": 3,
   "metadata": {},
   "outputs": [
    {
     "data": {
      "text/plain": [
       "9"
      ]
     },
     "execution_count": 3,
     "metadata": {},
     "output_type": "execute_result"
    }
   ],
   "source": [
    "g(3)"
   ]
  },
  {
   "cell_type": "markdown",
   "metadata": {},
   "source": [
    "A função ```h(x)``` abaixo é o resultado da função ```g``` **decorada** pela função ```f``` (e atribuída ao novo nome ```h```)"
   ]
  },
  {
   "cell_type": "code",
   "execution_count": 4,
   "metadata": {},
   "outputs": [],
   "source": [
    "h = f(g)"
   ]
  },
  {
   "cell_type": "code",
   "execution_count": 5,
   "metadata": {},
   "outputs": [
    {
     "data": {
      "text/plain": [
       "9"
      ]
     },
     "execution_count": 5,
     "metadata": {},
     "output_type": "execute_result"
    }
   ],
   "source": [
    "h(3)"
   ]
  },
  {
   "cell_type": "markdown",
   "metadata": {},
   "source": [
    "___\n",
    "### Exemplo 2: Decorador simples que retorna outra função totalmente diferente da função de entrada\n",
    "A função ```f(g)``` abaixo é um **decorador**: ela recebe uma função ```g``` como argumento e retorna uma função que, **neste exemplo**, é a função pré-definida interna do do Python ```bool()``` (a qual converte em booleano o valor de entrada) totalmente diferente da função ```g```"
   ]
  },
  {
   "cell_type": "code",
   "execution_count": 6,
   "metadata": {},
   "outputs": [],
   "source": [
    "def f(g):\n",
    "    return bool"
   ]
  },
  {
   "cell_type": "markdown",
   "metadata": {},
   "source": [
    "A função ```h(x)``` abaixo é o resultado da função ```g``` anterior **decorada** pela nova função ```f```, **sem alterar a função ```g```** (e atribuída ao novo nome ```h```)"
   ]
  },
  {
   "cell_type": "code",
   "execution_count": 7,
   "metadata": {},
   "outputs": [],
   "source": [
    "h = f(g)"
   ]
  },
  {
   "cell_type": "code",
   "execution_count": 8,
   "metadata": {},
   "outputs": [
    {
     "data": {
      "text/plain": [
       "True"
      ]
     },
     "execution_count": 8,
     "metadata": {},
     "output_type": "execute_result"
    }
   ],
   "source": [
    "h(3)"
   ]
  },
  {
   "cell_type": "markdown",
   "metadata": {},
   "source": [
    "___\n",
    "### Exemplo 3: Decorador típico que retorna outra função expandindo o comportamento da função de entrada\n",
    "A função ```f(g)``` abaixo é um **decorador**: ela recebe uma função ```g(x)``` como argumento e retorna uma função que, neste exemplo, é uma **nova função ```new(x)``` definida dentro do escopo de ```f(g)```** (\"*função aninhada*\") a qual expande o comportamento da função de entrada ```g(x)```."
   ]
  },
  {
   "cell_type": "code",
   "execution_count": 9,
   "metadata": {},
   "outputs": [],
   "source": [
    "def f(g):\n",
    "    \n",
    "    # --- Função dentro do escopo de f(g), que usa g(x) expandido seu comportamento\n",
    "    def new(x):\n",
    "        return g(x) + 1\n",
    "    # ---\n",
    "    \n",
    "    return new"
   ]
  },
  {
   "cell_type": "markdown",
   "metadata": {},
   "source": [
    "A função ```h(x)``` abaixo é o resultado da função ```g``` anterior **decorada** pela nova função ```f```, **sem alterar a função ```g```** (e atribuída ao novo nome ```h```)"
   ]
  },
  {
   "cell_type": "code",
   "execution_count": 10,
   "metadata": {},
   "outputs": [],
   "source": [
    "h = f(g)"
   ]
  },
  {
   "cell_type": "code",
   "execution_count": 11,
   "metadata": {},
   "outputs": [
    {
     "data": {
      "text/plain": [
       "10"
      ]
     },
     "execution_count": 11,
     "metadata": {},
     "output_type": "execute_result"
    }
   ],
   "source": [
    "h(3)"
   ]
  },
  {
   "cell_type": "markdown",
   "metadata": {},
   "source": [
    "___\n",
    "### Exemplo 4: Atualizando o comportamento da função de entrada\n",
    "Retornando ao **Exemplo 3**: a função ```g``` poderia ser alterada pela função ```f```, **atribuindo o resultado de ```f(g)``` ao proprio nome ```g```.**  \n",
    "Aí não se usa a terceira função ```h```. Isso é normalmente usado para atualizar o valor de uma variável qualquer. Exemplo:\n"
   ]
  },
  {
   "cell_type": "code",
   "execution_count": 12,
   "metadata": {},
   "outputs": [
    {
     "name": "stdout",
     "output_type": "stream",
     "text": [
      "4\n"
     ]
    }
   ],
   "source": [
    "a = 3\n",
    "a = a + 1 # 'a' recebe o valor de 'a' somado de 1\n",
    "print (a)"
   ]
  },
  {
   "cell_type": "markdown",
   "metadata": {},
   "source": [
    "Fazendo isso com a função e seu decorador, tem-se:"
   ]
  },
  {
   "cell_type": "code",
   "execution_count": 13,
   "metadata": {},
   "outputs": [
    {
     "data": {
      "text/plain": [
       "9"
      ]
     },
     "execution_count": 13,
     "metadata": {},
     "output_type": "execute_result"
    }
   ],
   "source": [
    "g(3) # Antes de decorar"
   ]
  },
  {
   "cell_type": "code",
   "execution_count": 14,
   "metadata": {},
   "outputs": [],
   "source": [
    "g = f(g) # Agora 'g' recebe a definição de 'g' decorada por 'f'"
   ]
  },
  {
   "cell_type": "code",
   "execution_count": 15,
   "metadata": {},
   "outputs": [
    {
     "data": {
      "text/plain": [
       "10"
      ]
     },
     "execution_count": 15,
     "metadata": {},
     "output_type": "execute_result"
    }
   ],
   "source": [
    "g(3) # Depois de decorar"
   ]
  },
  {
   "cell_type": "markdown",
   "metadata": {},
   "source": [
    "___\n",
    "### Exemplo 5: Atualizando o comportamento da função de entrada com a sintaxe ```@```\n",
    "A operação ```g = f(g)``` do **Exemplo 4** (que indica \"*```g``` recebe ```g``` decorada pelo decorador ```f```*\") pode ser antecipada  \n",
    "com o uso da sintaxe ```@[nome_do_decorador]``` **logo no momento da declaração de ```g```** "
   ]
  },
  {
   "cell_type": "code",
   "execution_count": 16,
   "metadata": {},
   "outputs": [],
   "source": [
    "@f\n",
    "def g(x):\n",
    "    return x**2"
   ]
  },
  {
   "cell_type": "markdown",
   "metadata": {},
   "source": [
    "A instrução acima é equivalente a se fazer ```g = f(g)```"
   ]
  },
  {
   "cell_type": "code",
   "execution_count": 17,
   "metadata": {},
   "outputs": [
    {
     "data": {
      "text/plain": [
       "10"
      ]
     },
     "execution_count": 17,
     "metadata": {},
     "output_type": "execute_result"
    }
   ],
   "source": [
    "g(3) # g (definido acima) já está decorada por f"
   ]
  },
  {
   "cell_type": "markdown",
   "metadata": {},
   "source": [
    "___\n",
    "### Exemplo 6: O decorador ```property```\n",
    "O Python possui uma função interna ```property``` que é um decorador. Essa função tem a assinatura abaixo\n",
    "\n",
    "```property(fget=None, fset=None, fdel=None, doc=None)```\n",
    "\n",
    "Ela é usada para manipular atributos de objetos. Os argumentos são:\n",
    "\n",
    "```fget``` → Função usada para extrair o valor de um atributo (atribuída ao método ```getter(...)```)  \n",
    "```fset``` → Função usada para atribuir o valor de um atributo (atribuída ao método ```setter(...)```)  \n",
    "```fdel``` → Função usada para deletar o atributo (atribuída ao método ```deleter(...)```)  \n",
    "```doc``` →  docstring\n",
    "\n",
    "Abaixo tem-se o uso típico como função, dentro da declaração da classe:"
   ]
  },
  {
   "cell_type": "code",
   "execution_count": 18,
   "metadata": {},
   "outputs": [],
   "source": [
    " class C:\n",
    "        \n",
    "    def __init__(self,x):\n",
    "        self._x = x            # o atributo '_x' fica sendo uma variavel privada da classe\n",
    "        \n",
    "    def getx(self):\n",
    "        return self._x\n",
    "    \n",
    "    def setx(self, value):\n",
    "        self._x = value\n",
    "        \n",
    "    x = property(getx, setx)    # 'getx' e 'setx' decorados por 'property' → agora 'x' é acessado como propriedade"
   ]
  },
  {
   "cell_type": "markdown",
   "metadata": {},
   "source": [
    "**Instanciando o objeto**"
   ]
  },
  {
   "cell_type": "code",
   "execution_count": 19,
   "metadata": {},
   "outputs": [],
   "source": [
    "objeto = C(x=7)"
   ]
  },
  {
   "cell_type": "markdown",
   "metadata": {},
   "source": [
    "___\n",
    "**Uso dos métodos diretamente:**"
   ]
  },
  {
   "cell_type": "code",
   "execution_count": 20,
   "metadata": {},
   "outputs": [
    {
     "data": {
      "text/plain": [
       "7"
      ]
     },
     "execution_count": 20,
     "metadata": {},
     "output_type": "execute_result"
    }
   ],
   "source": [
    "objeto.getx()"
   ]
  },
  {
   "cell_type": "code",
   "execution_count": 21,
   "metadata": {},
   "outputs": [],
   "source": [
    "objeto.setx(5) # Atualiza x"
   ]
  },
  {
   "cell_type": "code",
   "execution_count": 22,
   "metadata": {},
   "outputs": [
    {
     "data": {
      "text/plain": [
       "5"
      ]
     },
     "execution_count": 22,
     "metadata": {},
     "output_type": "execute_result"
    }
   ],
   "source": [
    "objeto.getx()"
   ]
  },
  {
   "cell_type": "markdown",
   "metadata": {},
   "source": [
    "___\n",
    "**Uso da propriedade:**"
   ]
  },
  {
   "cell_type": "code",
   "execution_count": 23,
   "metadata": {},
   "outputs": [
    {
     "data": {
      "text/plain": [
       "5"
      ]
     },
     "execution_count": 23,
     "metadata": {},
     "output_type": "execute_result"
    }
   ],
   "source": [
    "objeto.x"
   ]
  },
  {
   "cell_type": "code",
   "execution_count": 24,
   "metadata": {},
   "outputs": [],
   "source": [
    "objeto.x = 22 # Atualiza x"
   ]
  },
  {
   "cell_type": "code",
   "execution_count": 25,
   "metadata": {},
   "outputs": [
    {
     "data": {
      "text/plain": [
       "22"
      ]
     },
     "execution_count": 25,
     "metadata": {},
     "output_type": "execute_result"
    }
   ],
   "source": [
    "objeto.x"
   ]
  },
  {
   "cell_type": "markdown",
   "metadata": {},
   "source": [
    "___\n",
    "### A função ```property``` dada acima pode ser usada com a sintaxe de decorador ```@```"
   ]
  },
  {
   "cell_type": "code",
   "execution_count": 26,
   "metadata": {},
   "outputs": [],
   "source": [
    " class C:\n",
    "        \n",
    "    def __init__(self,x):\n",
    "        self._x = x\n",
    "    \n",
    "    @property             # → a função abaixo fica atribuída ao método getter\n",
    "    def x(self):\n",
    "        return self._x\n",
    "    \n",
    "    @x.setter             # → a função abaixo fica atribuída ao método setter\n",
    "    def x(self, value):\n",
    "        self._x = value\n",
    "        "
   ]
  },
  {
   "cell_type": "markdown",
   "metadata": {},
   "source": [
    "___\n",
    "**Instanciando o objeto e usando x como propriedade**"
   ]
  },
  {
   "cell_type": "code",
   "execution_count": 27,
   "metadata": {},
   "outputs": [],
   "source": [
    "objeto = C(7)"
   ]
  },
  {
   "cell_type": "code",
   "execution_count": 28,
   "metadata": {},
   "outputs": [
    {
     "data": {
      "text/plain": [
       "7"
      ]
     },
     "execution_count": 28,
     "metadata": {},
     "output_type": "execute_result"
    }
   ],
   "source": [
    "objeto.x"
   ]
  },
  {
   "cell_type": "code",
   "execution_count": 29,
   "metadata": {},
   "outputs": [
    {
     "data": {
      "text/plain": [
       "32"
      ]
     },
     "execution_count": 29,
     "metadata": {},
     "output_type": "execute_result"
    }
   ],
   "source": [
    "objeto.x = 32\n",
    "objeto.x"
   ]
  },
  {
   "cell_type": "markdown",
   "metadata": {},
   "source": [
    "___\n",
    "### Documentação de ```property```"
   ]
  },
  {
   "cell_type": "code",
   "execution_count": 30,
   "metadata": {
    "scrolled": false
   },
   "outputs": [
    {
     "name": "stdout",
     "output_type": "stream",
     "text": [
      "Help on class property in module builtins:\n",
      "\n",
      "class property(object)\n",
      " |  property(fget=None, fset=None, fdel=None, doc=None)\n",
      " |  \n",
      " |  Property attribute.\n",
      " |  \n",
      " |    fget\n",
      " |      function to be used for getting an attribute value\n",
      " |    fset\n",
      " |      function to be used for setting an attribute value\n",
      " |    fdel\n",
      " |      function to be used for del'ing an attribute\n",
      " |    doc\n",
      " |      docstring\n",
      " |  \n",
      " |  Typical use is to define a managed attribute x:\n",
      " |  \n",
      " |  class C(object):\n",
      " |      def getx(self): return self._x\n",
      " |      def setx(self, value): self._x = value\n",
      " |      def delx(self): del self._x\n",
      " |      x = property(getx, setx, delx, \"I'm the 'x' property.\")\n",
      " |  \n",
      " |  Decorators make defining new properties or modifying existing ones easy:\n",
      " |  \n",
      " |  class C(object):\n",
      " |      @property\n",
      " |      def x(self):\n",
      " |          \"I am the 'x' property.\"\n",
      " |          return self._x\n",
      " |      @x.setter\n",
      " |      def x(self, value):\n",
      " |          self._x = value\n",
      " |      @x.deleter\n",
      " |      def x(self):\n",
      " |          del self._x\n",
      " |  \n",
      " |  Methods defined here:\n",
      " |  \n",
      " |  __delete__(self, instance, /)\n",
      " |      Delete an attribute of instance.\n",
      " |  \n",
      " |  __get__(self, instance, owner, /)\n",
      " |      Return an attribute of instance, which is of type owner.\n",
      " |  \n",
      " |  __getattribute__(self, name, /)\n",
      " |      Return getattr(self, name).\n",
      " |  \n",
      " |  __init__(self, /, *args, **kwargs)\n",
      " |      Initialize self.  See help(type(self)) for accurate signature.\n",
      " |  \n",
      " |  __set__(self, instance, value, /)\n",
      " |      Set an attribute of instance to value.\n",
      " |  \n",
      " |  deleter(...)\n",
      " |      Descriptor to change the deleter on a property.\n",
      " |  \n",
      " |  getter(...)\n",
      " |      Descriptor to change the getter on a property.\n",
      " |  \n",
      " |  setter(...)\n",
      " |      Descriptor to change the setter on a property.\n",
      " |  \n",
      " |  ----------------------------------------------------------------------\n",
      " |  Static methods defined here:\n",
      " |  \n",
      " |  __new__(*args, **kwargs) from builtins.type\n",
      " |      Create and return a new object.  See help(type) for accurate signature.\n",
      " |  \n",
      " |  ----------------------------------------------------------------------\n",
      " |  Data descriptors defined here:\n",
      " |  \n",
      " |  __isabstractmethod__\n",
      " |  \n",
      " |  fdel\n",
      " |  \n",
      " |  fget\n",
      " |  \n",
      " |  fset\n",
      "\n"
     ]
    }
   ],
   "source": [
    "help(property)"
   ]
  }
 ],
 "metadata": {
  "kernelspec": {
   "display_name": "Python 3 (ipykernel)",
   "language": "python",
   "name": "python3"
  },
  "language_info": {
   "codemirror_mode": {
    "name": "ipython",
    "version": 3
   },
   "file_extension": ".py",
   "mimetype": "text/x-python",
   "name": "python",
   "nbconvert_exporter": "python",
   "pygments_lexer": "ipython3",
   "version": "3.9.7"
  }
 },
 "nbformat": 4,
 "nbformat_minor": 4
}
